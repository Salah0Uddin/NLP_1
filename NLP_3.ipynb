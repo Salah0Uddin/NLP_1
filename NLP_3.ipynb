{
  "nbformat": 4,
  "nbformat_minor": 0,
  "metadata": {
    "colab": {
      "provenance": [],
      "gpuType": "T4",
      "authorship_tag": "ABX9TyNLdwtHdq0fg3bkjAKHgDXu",
      "include_colab_link": true
    },
    "kernelspec": {
      "name": "python3",
      "display_name": "Python 3"
    },
    "language_info": {
      "name": "python"
    },
    "accelerator": "GPU"
  },
  "cells": [
    {
      "cell_type": "markdown",
      "metadata": {
        "id": "view-in-github",
        "colab_type": "text"
      },
      "source": [
        "<a href=\"https://colab.research.google.com/github/Salah0Uddin/NLP_Learning/blob/main/NLP_3.ipynb\" target=\"_parent\"><img src=\"https://colab.research.google.com/assets/colab-badge.svg\" alt=\"Open In Colab\"/></a>"
      ]
    },
    {
      "cell_type": "code",
      "metadata": {
        "colab": {
          "base_uri": "https://localhost:8080/"
        },
        "id": "af118b2e",
        "outputId": "90467c86-06e3-4580-c578-9f63500cc686"
      },
      "source": [
        "import tensorflow as tf\n",
        "\n",
        "print(\"TensorFlow version:\", tf.version.VERSION)"
      ],
      "execution_count": 29,
      "outputs": [
        {
          "output_type": "stream",
          "name": "stdout",
          "text": [
            "TensorFlow version: 2.18.0\n"
          ]
        }
      ]
    },
    {
      "cell_type": "code",
      "metadata": {
        "colab": {
          "base_uri": "https://localhost:8080/"
        },
        "id": "1174faae",
        "outputId": "c4712940-34a2-425b-c88f-ad1855eeb75c"
      },
      "source": [
        "print(\"Num GPUs available:\", len(tf.config.list_physical_devices('GPU')))"
      ],
      "execution_count": 30,
      "outputs": [
        {
          "output_type": "stream",
          "name": "stdout",
          "text": [
            "Num GPUs available: 1\n"
          ]
        }
      ]
    },
    {
      "cell_type": "code",
      "source": [
        "from tensorflow.keras.preprocessing.text import one_hot"
      ],
      "metadata": {
        "id": "a7DPWMxdD4gV"
      },
      "execution_count": 31,
      "outputs": []
    },
    {
      "cell_type": "code",
      "source": [
        "sent=[  'the glass of milk',\n",
        "     'the glass of juice',\n",
        "     'the cup of tea',\n",
        "    'I am a good boy',\n",
        "     'I am a good developer',\n",
        "     'understand the meaning of words',\n",
        "     'your videos are good']"
      ],
      "metadata": {
        "id": "mWyZ-4fkEVT7"
      },
      "execution_count": 32,
      "outputs": []
    },
    {
      "cell_type": "code",
      "source": [
        "### Vocabulary size\n",
        "voc_size=500"
      ],
      "metadata": {
        "id": "gHrOG4EbEb0x"
      },
      "execution_count": 33,
      "outputs": []
    },
    {
      "cell_type": "code",
      "source": [
        "sent"
      ],
      "metadata": {
        "colab": {
          "base_uri": "https://localhost:8080/"
        },
        "id": "imvrBiTmFl1f",
        "outputId": "fe07e766-ce81-44c7-f2e5-1e4aade9f2da"
      },
      "execution_count": 34,
      "outputs": [
        {
          "output_type": "execute_result",
          "data": {
            "text/plain": [
              "['the glass of milk',\n",
              " 'the glass of juice',\n",
              " 'the cup of tea',\n",
              " 'I am a good boy',\n",
              " 'I am a good developer',\n",
              " 'understand the meaning of words',\n",
              " 'your videos are good']"
            ]
          },
          "metadata": {},
          "execution_count": 34
        }
      ]
    },
    {
      "cell_type": "markdown",
      "source": [
        "# One Hot Representation"
      ],
      "metadata": {
        "id": "7SeEBte4FEPn"
      }
    },
    {
      "cell_type": "code",
      "source": [
        "onehot_repr=[one_hot(word,voc_size)for word in sent]\n",
        "print(onehot_repr)"
      ],
      "metadata": {
        "colab": {
          "base_uri": "https://localhost:8080/"
        },
        "id": "ArB7OvQaFv5X",
        "outputId": "e529e25d-473b-443c-9a33-4df7874df866"
      },
      "execution_count": 35,
      "outputs": [
        {
          "output_type": "stream",
          "name": "stdout",
          "text": [
            "[[399, 58, 75, 488], [399, 58, 75, 241], [399, 477, 75, 466], [431, 138, 228, 455, 253], [431, 138, 228, 455, 295], [104, 399, 352, 75, 355], [484, 211, 447, 455]]\n"
          ]
        }
      ]
    },
    {
      "cell_type": "markdown",
      "source": [
        "# Word Embedding Represntation"
      ],
      "metadata": {
        "id": "_Wr-2iIRFr2v"
      }
    },
    {
      "cell_type": "code",
      "source": [
        "from tensorflow.keras.layers import Embedding\n",
        "from tensorflow.keras.preprocessing.sequence import pad_sequences\n",
        "from tensorflow.keras.models import Sequential"
      ],
      "metadata": {
        "id": "VBNKfOupFek7"
      },
      "execution_count": 36,
      "outputs": []
    },
    {
      "cell_type": "code",
      "source": [
        "import numpy as np\n"
      ],
      "metadata": {
        "id": "j0lowz_BFyn9"
      },
      "execution_count": 37,
      "outputs": []
    },
    {
      "cell_type": "code",
      "source": [
        "#pre-padding\n",
        "sent_length=8\n",
        "embedded_docs=pad_sequences(onehot_repr,padding=\"pre\",maxlen=sent_length)\n",
        "print(embedded_docs)"
      ],
      "metadata": {
        "colab": {
          "base_uri": "https://localhost:8080/"
        },
        "id": "xnqDHVu7F5IZ",
        "outputId": "8bbdb162-4157-4dbf-e75d-8f76e24ef2c5"
      },
      "execution_count": 38,
      "outputs": [
        {
          "output_type": "stream",
          "name": "stdout",
          "text": [
            "[[  0   0   0   0 399  58  75 488]\n",
            " [  0   0   0   0 399  58  75 241]\n",
            " [  0   0   0   0 399 477  75 466]\n",
            " [  0   0   0 431 138 228 455 253]\n",
            " [  0   0   0 431 138 228 455 295]\n",
            " [  0   0   0 104 399 352  75 355]\n",
            " [  0   0   0   0 484 211 447 455]]\n"
          ]
        }
      ]
    },
    {
      "cell_type": "code",
      "source": [
        "## 10 feature dimesnions\n",
        "dim=10"
      ],
      "metadata": {
        "id": "QNd2iAim3HtY"
      },
      "execution_count": 39,
      "outputs": []
    },
    {
      "cell_type": "code",
      "source": [
        "model = Sequential()\n",
        "model.add(Embedding(input_dim=500, output_dim=10))\n",
        "model.build(input_shape=(None, 8))\n",
        "model.summary()\n",
        "\n"
      ],
      "metadata": {
        "colab": {
          "base_uri": "https://localhost:8080/",
          "height": 161
        },
        "id": "R5-1x1-T4jRK",
        "outputId": "284a1e08-dd79-44ff-e943-f0415c6bd133"
      },
      "execution_count": 43,
      "outputs": [
        {
          "output_type": "display_data",
          "data": {
            "text/plain": [
              "\u001b[1mModel: \"sequential_5\"\u001b[0m\n"
            ],
            "text/html": [
              "<pre style=\"white-space:pre;overflow-x:auto;line-height:normal;font-family:Menlo,'DejaVu Sans Mono',consolas,'Courier New',monospace\"><span style=\"font-weight: bold\">Model: \"sequential_5\"</span>\n",
              "</pre>\n"
            ]
          },
          "metadata": {}
        },
        {
          "output_type": "display_data",
          "data": {
            "text/plain": [
              "┏━━━━━━━━━━━━━━━━━━━━━━━━━━━━━━━━━┳━━━━━━━━━━━━━━━━━━━━━━━━┳━━━━━━━━━━━━━━━┓\n",
              "┃\u001b[1m \u001b[0m\u001b[1mLayer (type)                   \u001b[0m\u001b[1m \u001b[0m┃\u001b[1m \u001b[0m\u001b[1mOutput Shape          \u001b[0m\u001b[1m \u001b[0m┃\u001b[1m \u001b[0m\u001b[1m      Param #\u001b[0m\u001b[1m \u001b[0m┃\n",
              "┡━━━━━━━━━━━━━━━━━━━━━━━━━━━━━━━━━╇━━━━━━━━━━━━━━━━━━━━━━━━╇━━━━━━━━━━━━━━━┩\n",
              "│ embedding_5 (\u001b[38;5;33mEmbedding\u001b[0m)         │ (\u001b[38;5;45mNone\u001b[0m, \u001b[38;5;34m8\u001b[0m, \u001b[38;5;34m10\u001b[0m)          │         \u001b[38;5;34m5,000\u001b[0m │\n",
              "└─────────────────────────────────┴────────────────────────┴───────────────┘\n"
            ],
            "text/html": [
              "<pre style=\"white-space:pre;overflow-x:auto;line-height:normal;font-family:Menlo,'DejaVu Sans Mono',consolas,'Courier New',monospace\">┏━━━━━━━━━━━━━━━━━━━━━━━━━━━━━━━━━┳━━━━━━━━━━━━━━━━━━━━━━━━┳━━━━━━━━━━━━━━━┓\n",
              "┃<span style=\"font-weight: bold\"> Layer (type)                    </span>┃<span style=\"font-weight: bold\"> Output Shape           </span>┃<span style=\"font-weight: bold\">       Param # </span>┃\n",
              "┡━━━━━━━━━━━━━━━━━━━━━━━━━━━━━━━━━╇━━━━━━━━━━━━━━━━━━━━━━━━╇━━━━━━━━━━━━━━━┩\n",
              "│ embedding_5 (<span style=\"color: #0087ff; text-decoration-color: #0087ff\">Embedding</span>)         │ (<span style=\"color: #00d7ff; text-decoration-color: #00d7ff\">None</span>, <span style=\"color: #00af00; text-decoration-color: #00af00\">8</span>, <span style=\"color: #00af00; text-decoration-color: #00af00\">10</span>)          │         <span style=\"color: #00af00; text-decoration-color: #00af00\">5,000</span> │\n",
              "└─────────────────────────────────┴────────────────────────┴───────────────┘\n",
              "</pre>\n"
            ]
          },
          "metadata": {}
        },
        {
          "output_type": "display_data",
          "data": {
            "text/plain": [
              "\u001b[1m Total params: \u001b[0m\u001b[38;5;34m5,000\u001b[0m (19.53 KB)\n"
            ],
            "text/html": [
              "<pre style=\"white-space:pre;overflow-x:auto;line-height:normal;font-family:Menlo,'DejaVu Sans Mono',consolas,'Courier New',monospace\"><span style=\"font-weight: bold\"> Total params: </span><span style=\"color: #00af00; text-decoration-color: #00af00\">5,000</span> (19.53 KB)\n",
              "</pre>\n"
            ]
          },
          "metadata": {}
        },
        {
          "output_type": "display_data",
          "data": {
            "text/plain": [
              "\u001b[1m Trainable params: \u001b[0m\u001b[38;5;34m5,000\u001b[0m (19.53 KB)\n"
            ],
            "text/html": [
              "<pre style=\"white-space:pre;overflow-x:auto;line-height:normal;font-family:Menlo,'DejaVu Sans Mono',consolas,'Courier New',monospace\"><span style=\"font-weight: bold\"> Trainable params: </span><span style=\"color: #00af00; text-decoration-color: #00af00\">5,000</span> (19.53 KB)\n",
              "</pre>\n"
            ]
          },
          "metadata": {}
        },
        {
          "output_type": "display_data",
          "data": {
            "text/plain": [
              "\u001b[1m Non-trainable params: \u001b[0m\u001b[38;5;34m0\u001b[0m (0.00 B)\n"
            ],
            "text/html": [
              "<pre style=\"white-space:pre;overflow-x:auto;line-height:normal;font-family:Menlo,'DejaVu Sans Mono',consolas,'Courier New',monospace\"><span style=\"font-weight: bold\"> Non-trainable params: </span><span style=\"color: #00af00; text-decoration-color: #00af00\">0</span> (0.00 B)\n",
              "</pre>\n"
            ]
          },
          "metadata": {}
        }
      ]
    },
    {
      "cell_type": "code",
      "source": [
        "model.summary()"
      ],
      "metadata": {
        "colab": {
          "base_uri": "https://localhost:8080/",
          "height": 161
        },
        "id": "qO85Txje5C9X",
        "outputId": "477a6534-3e21-4b3a-99b4-d9247790bfcd"
      },
      "execution_count": 44,
      "outputs": [
        {
          "output_type": "display_data",
          "data": {
            "text/plain": [
              "\u001b[1mModel: \"sequential_5\"\u001b[0m\n"
            ],
            "text/html": [
              "<pre style=\"white-space:pre;overflow-x:auto;line-height:normal;font-family:Menlo,'DejaVu Sans Mono',consolas,'Courier New',monospace\"><span style=\"font-weight: bold\">Model: \"sequential_5\"</span>\n",
              "</pre>\n"
            ]
          },
          "metadata": {}
        },
        {
          "output_type": "display_data",
          "data": {
            "text/plain": [
              "┏━━━━━━━━━━━━━━━━━━━━━━━━━━━━━━━━━┳━━━━━━━━━━━━━━━━━━━━━━━━┳━━━━━━━━━━━━━━━┓\n",
              "┃\u001b[1m \u001b[0m\u001b[1mLayer (type)                   \u001b[0m\u001b[1m \u001b[0m┃\u001b[1m \u001b[0m\u001b[1mOutput Shape          \u001b[0m\u001b[1m \u001b[0m┃\u001b[1m \u001b[0m\u001b[1m      Param #\u001b[0m\u001b[1m \u001b[0m┃\n",
              "┡━━━━━━━━━━━━━━━━━━━━━━━━━━━━━━━━━╇━━━━━━━━━━━━━━━━━━━━━━━━╇━━━━━━━━━━━━━━━┩\n",
              "│ embedding_5 (\u001b[38;5;33mEmbedding\u001b[0m)         │ (\u001b[38;5;45mNone\u001b[0m, \u001b[38;5;34m8\u001b[0m, \u001b[38;5;34m10\u001b[0m)          │         \u001b[38;5;34m5,000\u001b[0m │\n",
              "└─────────────────────────────────┴────────────────────────┴───────────────┘\n"
            ],
            "text/html": [
              "<pre style=\"white-space:pre;overflow-x:auto;line-height:normal;font-family:Menlo,'DejaVu Sans Mono',consolas,'Courier New',monospace\">┏━━━━━━━━━━━━━━━━━━━━━━━━━━━━━━━━━┳━━━━━━━━━━━━━━━━━━━━━━━━┳━━━━━━━━━━━━━━━┓\n",
              "┃<span style=\"font-weight: bold\"> Layer (type)                    </span>┃<span style=\"font-weight: bold\"> Output Shape           </span>┃<span style=\"font-weight: bold\">       Param # </span>┃\n",
              "┡━━━━━━━━━━━━━━━━━━━━━━━━━━━━━━━━━╇━━━━━━━━━━━━━━━━━━━━━━━━╇━━━━━━━━━━━━━━━┩\n",
              "│ embedding_5 (<span style=\"color: #0087ff; text-decoration-color: #0087ff\">Embedding</span>)         │ (<span style=\"color: #00d7ff; text-decoration-color: #00d7ff\">None</span>, <span style=\"color: #00af00; text-decoration-color: #00af00\">8</span>, <span style=\"color: #00af00; text-decoration-color: #00af00\">10</span>)          │         <span style=\"color: #00af00; text-decoration-color: #00af00\">5,000</span> │\n",
              "└─────────────────────────────────┴────────────────────────┴───────────────┘\n",
              "</pre>\n"
            ]
          },
          "metadata": {}
        },
        {
          "output_type": "display_data",
          "data": {
            "text/plain": [
              "\u001b[1m Total params: \u001b[0m\u001b[38;5;34m5,000\u001b[0m (19.53 KB)\n"
            ],
            "text/html": [
              "<pre style=\"white-space:pre;overflow-x:auto;line-height:normal;font-family:Menlo,'DejaVu Sans Mono',consolas,'Courier New',monospace\"><span style=\"font-weight: bold\"> Total params: </span><span style=\"color: #00af00; text-decoration-color: #00af00\">5,000</span> (19.53 KB)\n",
              "</pre>\n"
            ]
          },
          "metadata": {}
        },
        {
          "output_type": "display_data",
          "data": {
            "text/plain": [
              "\u001b[1m Trainable params: \u001b[0m\u001b[38;5;34m5,000\u001b[0m (19.53 KB)\n"
            ],
            "text/html": [
              "<pre style=\"white-space:pre;overflow-x:auto;line-height:normal;font-family:Menlo,'DejaVu Sans Mono',consolas,'Courier New',monospace\"><span style=\"font-weight: bold\"> Trainable params: </span><span style=\"color: #00af00; text-decoration-color: #00af00\">5,000</span> (19.53 KB)\n",
              "</pre>\n"
            ]
          },
          "metadata": {}
        },
        {
          "output_type": "display_data",
          "data": {
            "text/plain": [
              "\u001b[1m Non-trainable params: \u001b[0m\u001b[38;5;34m0\u001b[0m (0.00 B)\n"
            ],
            "text/html": [
              "<pre style=\"white-space:pre;overflow-x:auto;line-height:normal;font-family:Menlo,'DejaVu Sans Mono',consolas,'Courier New',monospace\"><span style=\"font-weight: bold\"> Non-trainable params: </span><span style=\"color: #00af00; text-decoration-color: #00af00\">0</span> (0.00 B)\n",
              "</pre>\n"
            ]
          },
          "metadata": {}
        }
      ]
    },
    {
      "cell_type": "code",
      "source": [
        "##'the glass of milk',\n",
        "embedded_docs[0]"
      ],
      "metadata": {
        "colab": {
          "base_uri": "https://localhost:8080/"
        },
        "id": "oIWutGWh5MUo",
        "outputId": "d379d763-220d-46f1-fe1c-9386f74f201c"
      },
      "execution_count": 45,
      "outputs": [
        {
          "output_type": "execute_result",
          "data": {
            "text/plain": [
              "array([  0,   0,   0,   0, 399,  58,  75, 488], dtype=int32)"
            ]
          },
          "metadata": {},
          "execution_count": 45
        }
      ]
    },
    {
      "cell_type": "code",
      "source": [
        "model.predict(np.expand_dims(embedded_docs[0], axis=0))"
      ],
      "metadata": {
        "colab": {
          "base_uri": "https://localhost:8080/"
        },
        "id": "RdYYODrT6qy9",
        "outputId": "dbb36a2c-99b0-4ec2-f19d-d285fa4a1b19"
      },
      "execution_count": 47,
      "outputs": [
        {
          "output_type": "stream",
          "name": "stdout",
          "text": [
            "\u001b[1m1/1\u001b[0m \u001b[32m━━━━━━━━━━━━━━━━━━━━\u001b[0m\u001b[37m\u001b[0m \u001b[1m0s\u001b[0m 204ms/step\n"
          ]
        },
        {
          "output_type": "execute_result",
          "data": {
            "text/plain": [
              "array([[[-0.02185503,  0.01373584,  0.0094289 ,  0.04084362,\n",
              "         -0.03906757,  0.02015429,  0.01812385,  0.04010978,\n",
              "         -0.02372221,  0.02531309],\n",
              "        [-0.02185503,  0.01373584,  0.0094289 ,  0.04084362,\n",
              "         -0.03906757,  0.02015429,  0.01812385,  0.04010978,\n",
              "         -0.02372221,  0.02531309],\n",
              "        [-0.02185503,  0.01373584,  0.0094289 ,  0.04084362,\n",
              "         -0.03906757,  0.02015429,  0.01812385,  0.04010978,\n",
              "         -0.02372221,  0.02531309],\n",
              "        [-0.02185503,  0.01373584,  0.0094289 ,  0.04084362,\n",
              "         -0.03906757,  0.02015429,  0.01812385,  0.04010978,\n",
              "         -0.02372221,  0.02531309],\n",
              "        [-0.00621663,  0.03698846,  0.03818682, -0.04687846,\n",
              "         -0.01824779, -0.00541193, -0.04891067, -0.04807972,\n",
              "         -0.03370011, -0.02443135],\n",
              "        [-0.0460546 ,  0.02640313, -0.03843451,  0.02811327,\n",
              "          0.00478863, -0.02199653, -0.04052764,  0.01651477,\n",
              "          0.02912339,  0.01618061],\n",
              "        [-0.01120564,  0.03130366,  0.02859272,  0.00505238,\n",
              "          0.01090928, -0.04857429,  0.04553899, -0.02107053,\n",
              "         -0.0127457 , -0.03297383],\n",
              "        [ 0.0470929 , -0.01922148,  0.01120076,  0.01211015,\n",
              "         -0.0066241 ,  0.01702869,  0.00612147,  0.02476939,\n",
              "         -0.02934706, -0.04543593]]], dtype=float32)"
            ]
          },
          "metadata": {},
          "execution_count": 47
        }
      ]
    },
    {
      "cell_type": "code",
      "source": [
        "model.predict(embedded_docs)"
      ],
      "metadata": {
        "colab": {
          "base_uri": "https://localhost:8080/"
        },
        "id": "8s6e_wrW6t-z",
        "outputId": "9b9989ae-ee24-4365-e76c-99b66f21e9b8"
      },
      "execution_count": 55,
      "outputs": [
        {
          "output_type": "stream",
          "name": "stdout",
          "text": [
            "\u001b[1m1/1\u001b[0m \u001b[32m━━━━━━━━━━━━━━━━━━━━\u001b[0m\u001b[37m\u001b[0m \u001b[1m0s\u001b[0m 29ms/step\n"
          ]
        },
        {
          "output_type": "execute_result",
          "data": {
            "text/plain": [
              "array([[[-2.18550321e-02,  1.37358420e-02,  9.42889601e-03,\n",
              "          4.08436172e-02, -3.90675664e-02,  2.01542862e-02,\n",
              "          1.81238540e-02,  4.01097797e-02, -2.37222072e-02,\n",
              "          2.53130905e-02],\n",
              "        [-2.18550321e-02,  1.37358420e-02,  9.42889601e-03,\n",
              "          4.08436172e-02, -3.90675664e-02,  2.01542862e-02,\n",
              "          1.81238540e-02,  4.01097797e-02, -2.37222072e-02,\n",
              "          2.53130905e-02],\n",
              "        [-2.18550321e-02,  1.37358420e-02,  9.42889601e-03,\n",
              "          4.08436172e-02, -3.90675664e-02,  2.01542862e-02,\n",
              "          1.81238540e-02,  4.01097797e-02, -2.37222072e-02,\n",
              "          2.53130905e-02],\n",
              "        [-2.18550321e-02,  1.37358420e-02,  9.42889601e-03,\n",
              "          4.08436172e-02, -3.90675664e-02,  2.01542862e-02,\n",
              "          1.81238540e-02,  4.01097797e-02, -2.37222072e-02,\n",
              "          2.53130905e-02],\n",
              "        [-6.21663406e-03,  3.69884633e-02,  3.81868221e-02,\n",
              "         -4.68784571e-02, -1.82477944e-02, -5.41193411e-03,\n",
              "         -4.89106663e-02, -4.80797179e-02, -3.37001085e-02,\n",
              "         -2.44313478e-02],\n",
              "        [-4.60546017e-02,  2.64031328e-02, -3.84345055e-02,\n",
              "          2.81132720e-02,  4.78862599e-03, -2.19965335e-02,\n",
              "         -4.05276418e-02,  1.65147670e-02,  2.91233920e-02,\n",
              "          1.61806084e-02],\n",
              "        [-1.12056360e-02,  3.13036554e-02,  2.85927169e-02,\n",
              "          5.05237654e-03,  1.09092817e-02, -4.85742949e-02,\n",
              "          4.55389880e-02, -2.10705288e-02, -1.27457008e-02,\n",
              "         -3.29738259e-02],\n",
              "        [ 4.70929034e-02, -1.92214847e-02,  1.12007633e-02,\n",
              "          1.21101514e-02, -6.62410259e-03,  1.70286931e-02,\n",
              "          6.12146780e-03,  2.47693919e-02, -2.93470621e-02,\n",
              "         -4.54359315e-02]],\n",
              "\n",
              "       [[-2.18550321e-02,  1.37358420e-02,  9.42889601e-03,\n",
              "          4.08436172e-02, -3.90675664e-02,  2.01542862e-02,\n",
              "          1.81238540e-02,  4.01097797e-02, -2.37222072e-02,\n",
              "          2.53130905e-02],\n",
              "        [-2.18550321e-02,  1.37358420e-02,  9.42889601e-03,\n",
              "          4.08436172e-02, -3.90675664e-02,  2.01542862e-02,\n",
              "          1.81238540e-02,  4.01097797e-02, -2.37222072e-02,\n",
              "          2.53130905e-02],\n",
              "        [-2.18550321e-02,  1.37358420e-02,  9.42889601e-03,\n",
              "          4.08436172e-02, -3.90675664e-02,  2.01542862e-02,\n",
              "          1.81238540e-02,  4.01097797e-02, -2.37222072e-02,\n",
              "          2.53130905e-02],\n",
              "        [-2.18550321e-02,  1.37358420e-02,  9.42889601e-03,\n",
              "          4.08436172e-02, -3.90675664e-02,  2.01542862e-02,\n",
              "          1.81238540e-02,  4.01097797e-02, -2.37222072e-02,\n",
              "          2.53130905e-02],\n",
              "        [-6.21663406e-03,  3.69884633e-02,  3.81868221e-02,\n",
              "         -4.68784571e-02, -1.82477944e-02, -5.41193411e-03,\n",
              "         -4.89106663e-02, -4.80797179e-02, -3.37001085e-02,\n",
              "         -2.44313478e-02],\n",
              "        [-4.60546017e-02,  2.64031328e-02, -3.84345055e-02,\n",
              "          2.81132720e-02,  4.78862599e-03, -2.19965335e-02,\n",
              "         -4.05276418e-02,  1.65147670e-02,  2.91233920e-02,\n",
              "          1.61806084e-02],\n",
              "        [-1.12056360e-02,  3.13036554e-02,  2.85927169e-02,\n",
              "          5.05237654e-03,  1.09092817e-02, -4.85742949e-02,\n",
              "          4.55389880e-02, -2.10705288e-02, -1.27457008e-02,\n",
              "         -3.29738259e-02],\n",
              "        [-3.72679606e-02, -2.07852852e-02, -4.29839157e-02,\n",
              "         -1.76965967e-02, -4.98893261e-02, -1.33049600e-02,\n",
              "         -3.57286930e-02, -1.30328052e-02,  4.11547162e-02,\n",
              "          7.66087323e-04]],\n",
              "\n",
              "       [[-2.18550321e-02,  1.37358420e-02,  9.42889601e-03,\n",
              "          4.08436172e-02, -3.90675664e-02,  2.01542862e-02,\n",
              "          1.81238540e-02,  4.01097797e-02, -2.37222072e-02,\n",
              "          2.53130905e-02],\n",
              "        [-2.18550321e-02,  1.37358420e-02,  9.42889601e-03,\n",
              "          4.08436172e-02, -3.90675664e-02,  2.01542862e-02,\n",
              "          1.81238540e-02,  4.01097797e-02, -2.37222072e-02,\n",
              "          2.53130905e-02],\n",
              "        [-2.18550321e-02,  1.37358420e-02,  9.42889601e-03,\n",
              "          4.08436172e-02, -3.90675664e-02,  2.01542862e-02,\n",
              "          1.81238540e-02,  4.01097797e-02, -2.37222072e-02,\n",
              "          2.53130905e-02],\n",
              "        [-2.18550321e-02,  1.37358420e-02,  9.42889601e-03,\n",
              "          4.08436172e-02, -3.90675664e-02,  2.01542862e-02,\n",
              "          1.81238540e-02,  4.01097797e-02, -2.37222072e-02,\n",
              "          2.53130905e-02],\n",
              "        [-6.21663406e-03,  3.69884633e-02,  3.81868221e-02,\n",
              "         -4.68784571e-02, -1.82477944e-02, -5.41193411e-03,\n",
              "         -4.89106663e-02, -4.80797179e-02, -3.37001085e-02,\n",
              "         -2.44313478e-02],\n",
              "        [-3.31326611e-02,  1.04654804e-02, -4.56925519e-02,\n",
              "         -2.16128118e-02, -3.26519236e-02,  1.60056092e-02,\n",
              "          2.11289637e-02,  1.09447017e-02, -2.42116097e-02,\n",
              "         -3.30694020e-05],\n",
              "        [-1.12056360e-02,  3.13036554e-02,  2.85927169e-02,\n",
              "          5.05237654e-03,  1.09092817e-02, -4.85742949e-02,\n",
              "          4.55389880e-02, -2.10705288e-02, -1.27457008e-02,\n",
              "         -3.29738259e-02],\n",
              "        [ 2.44494714e-02,  1.94915272e-02, -3.54657322e-03,\n",
              "         -3.86969931e-02,  5.96893951e-03,  2.43023075e-02,\n",
              "          1.81740411e-02, -4.22377959e-02,  2.52994560e-02,\n",
              "          3.15775536e-02]],\n",
              "\n",
              "       [[-2.18550321e-02,  1.37358420e-02,  9.42889601e-03,\n",
              "          4.08436172e-02, -3.90675664e-02,  2.01542862e-02,\n",
              "          1.81238540e-02,  4.01097797e-02, -2.37222072e-02,\n",
              "          2.53130905e-02],\n",
              "        [-2.18550321e-02,  1.37358420e-02,  9.42889601e-03,\n",
              "          4.08436172e-02, -3.90675664e-02,  2.01542862e-02,\n",
              "          1.81238540e-02,  4.01097797e-02, -2.37222072e-02,\n",
              "          2.53130905e-02],\n",
              "        [-2.18550321e-02,  1.37358420e-02,  9.42889601e-03,\n",
              "          4.08436172e-02, -3.90675664e-02,  2.01542862e-02,\n",
              "          1.81238540e-02,  4.01097797e-02, -2.37222072e-02,\n",
              "          2.53130905e-02],\n",
              "        [-4.05813679e-02,  4.04168032e-02,  7.38481432e-03,\n",
              "         -4.06935103e-02, -4.11123745e-02, -2.00352799e-02,\n",
              "          3.43847163e-02,  1.46405213e-02,  9.89434868e-03,\n",
              "          2.20835544e-02],\n",
              "        [-1.82223544e-02, -3.64860073e-02, -3.04200780e-02,\n",
              "         -3.97210009e-02, -1.49469152e-02,  6.29268587e-04,\n",
              "         -1.79152116e-02,  3.96462567e-02, -3.31655033e-02,\n",
              "         -4.79977392e-02],\n",
              "        [-1.43004581e-03, -4.48925272e-02, -8.64622742e-03,\n",
              "          1.14783533e-02, -3.26274186e-02,  3.82805951e-02,\n",
              "          1.52847655e-02, -9.69779491e-03,  9.20441002e-03,\n",
              "         -2.87546646e-02],\n",
              "        [ 3.76040675e-02,  1.75171383e-02, -2.06020232e-02,\n",
              "         -3.82276289e-02, -4.49288487e-02, -1.35497451e-02,\n",
              "         -4.42392603e-02, -4.73473184e-02,  3.76951732e-02,\n",
              "         -3.32457051e-02],\n",
              "        [-4.64011207e-02,  1.80104114e-02, -8.44352320e-03,\n",
              "         -2.77806651e-02,  1.23715401e-02, -1.09956637e-02,\n",
              "         -3.66112590e-02, -1.49207711e-02, -3.12561020e-02,\n",
              "         -1.26455203e-02]],\n",
              "\n",
              "       [[-2.18550321e-02,  1.37358420e-02,  9.42889601e-03,\n",
              "          4.08436172e-02, -3.90675664e-02,  2.01542862e-02,\n",
              "          1.81238540e-02,  4.01097797e-02, -2.37222072e-02,\n",
              "          2.53130905e-02],\n",
              "        [-2.18550321e-02,  1.37358420e-02,  9.42889601e-03,\n",
              "          4.08436172e-02, -3.90675664e-02,  2.01542862e-02,\n",
              "          1.81238540e-02,  4.01097797e-02, -2.37222072e-02,\n",
              "          2.53130905e-02],\n",
              "        [-2.18550321e-02,  1.37358420e-02,  9.42889601e-03,\n",
              "          4.08436172e-02, -3.90675664e-02,  2.01542862e-02,\n",
              "          1.81238540e-02,  4.01097797e-02, -2.37222072e-02,\n",
              "          2.53130905e-02],\n",
              "        [-4.05813679e-02,  4.04168032e-02,  7.38481432e-03,\n",
              "         -4.06935103e-02, -4.11123745e-02, -2.00352799e-02,\n",
              "          3.43847163e-02,  1.46405213e-02,  9.89434868e-03,\n",
              "          2.20835544e-02],\n",
              "        [-1.82223544e-02, -3.64860073e-02, -3.04200780e-02,\n",
              "         -3.97210009e-02, -1.49469152e-02,  6.29268587e-04,\n",
              "         -1.79152116e-02,  3.96462567e-02, -3.31655033e-02,\n",
              "         -4.79977392e-02],\n",
              "        [-1.43004581e-03, -4.48925272e-02, -8.64622742e-03,\n",
              "          1.14783533e-02, -3.26274186e-02,  3.82805951e-02,\n",
              "          1.52847655e-02, -9.69779491e-03,  9.20441002e-03,\n",
              "         -2.87546646e-02],\n",
              "        [ 3.76040675e-02,  1.75171383e-02, -2.06020232e-02,\n",
              "         -3.82276289e-02, -4.49288487e-02, -1.35497451e-02,\n",
              "         -4.42392603e-02, -4.73473184e-02,  3.76951732e-02,\n",
              "         -3.32457051e-02],\n",
              "        [ 1.04954615e-02,  4.77086194e-02, -2.46416572e-02,\n",
              "         -1.88879613e-02, -4.85758297e-02, -3.09599396e-02,\n",
              "          5.63693047e-03,  2.55451687e-02, -3.55065092e-02,\n",
              "         -1.85552463e-02]],\n",
              "\n",
              "       [[-2.18550321e-02,  1.37358420e-02,  9.42889601e-03,\n",
              "          4.08436172e-02, -3.90675664e-02,  2.01542862e-02,\n",
              "          1.81238540e-02,  4.01097797e-02, -2.37222072e-02,\n",
              "          2.53130905e-02],\n",
              "        [-2.18550321e-02,  1.37358420e-02,  9.42889601e-03,\n",
              "          4.08436172e-02, -3.90675664e-02,  2.01542862e-02,\n",
              "          1.81238540e-02,  4.01097797e-02, -2.37222072e-02,\n",
              "          2.53130905e-02],\n",
              "        [-2.18550321e-02,  1.37358420e-02,  9.42889601e-03,\n",
              "          4.08436172e-02, -3.90675664e-02,  2.01542862e-02,\n",
              "          1.81238540e-02,  4.01097797e-02, -2.37222072e-02,\n",
              "          2.53130905e-02],\n",
              "        [ 3.93427946e-02, -4.91191261e-02, -1.73134208e-02,\n",
              "          3.00666206e-02, -4.80605960e-02, -3.42755206e-02,\n",
              "         -1.01935044e-02, -2.10919976e-02, -4.82378006e-02,\n",
              "         -1.75843239e-02],\n",
              "        [-6.21663406e-03,  3.69884633e-02,  3.81868221e-02,\n",
              "         -4.68784571e-02, -1.82477944e-02, -5.41193411e-03,\n",
              "         -4.89106663e-02, -4.80797179e-02, -3.37001085e-02,\n",
              "         -2.44313478e-02],\n",
              "        [-2.45992430e-02,  2.38537677e-02, -3.32134962e-03,\n",
              "          1.18585937e-02, -3.69796902e-03, -1.47435442e-02,\n",
              "         -7.36225396e-04,  2.65161283e-02, -2.05030330e-02,\n",
              "         -6.75760210e-04],\n",
              "        [-1.12056360e-02,  3.13036554e-02,  2.85927169e-02,\n",
              "          5.05237654e-03,  1.09092817e-02, -4.85742949e-02,\n",
              "          4.55389880e-02, -2.10705288e-02, -1.27457008e-02,\n",
              "         -3.29738259e-02],\n",
              "        [-1.53152235e-02, -3.22191864e-02,  2.27636732e-02,\n",
              "         -4.08158675e-02, -1.49028078e-02, -5.27205318e-03,\n",
              "         -4.24922705e-02,  2.96497606e-02, -3.54745016e-02,\n",
              "         -9.15130228e-03]],\n",
              "\n",
              "       [[-2.18550321e-02,  1.37358420e-02,  9.42889601e-03,\n",
              "          4.08436172e-02, -3.90675664e-02,  2.01542862e-02,\n",
              "          1.81238540e-02,  4.01097797e-02, -2.37222072e-02,\n",
              "          2.53130905e-02],\n",
              "        [-2.18550321e-02,  1.37358420e-02,  9.42889601e-03,\n",
              "          4.08436172e-02, -3.90675664e-02,  2.01542862e-02,\n",
              "          1.81238540e-02,  4.01097797e-02, -2.37222072e-02,\n",
              "          2.53130905e-02],\n",
              "        [-2.18550321e-02,  1.37358420e-02,  9.42889601e-03,\n",
              "          4.08436172e-02, -3.90675664e-02,  2.01542862e-02,\n",
              "          1.81238540e-02,  4.01097797e-02, -2.37222072e-02,\n",
              "          2.53130905e-02],\n",
              "        [-2.18550321e-02,  1.37358420e-02,  9.42889601e-03,\n",
              "          4.08436172e-02, -3.90675664e-02,  2.01542862e-02,\n",
              "          1.81238540e-02,  4.01097797e-02, -2.37222072e-02,\n",
              "          2.53130905e-02],\n",
              "        [-2.24428773e-02, -1.63526051e-02,  2.11290754e-02,\n",
              "          1.51288547e-02, -1.72536261e-02,  1.84853002e-03,\n",
              "          1.13813169e-02, -3.68463285e-02, -2.79369485e-02,\n",
              "         -3.58158126e-02],\n",
              "        [-3.33976969e-02,  4.54844497e-02,  1.71144940e-02,\n",
              "          1.76692717e-02, -2.98312195e-02,  1.28964670e-02,\n",
              "          4.24222089e-02,  2.19110735e-02, -2.32517850e-02,\n",
              "          1.72649957e-02],\n",
              "        [-3.89937982e-02, -3.85208353e-02, -1.67890638e-03,\n",
              "         -2.82210596e-02, -1.09019056e-02,  3.41861509e-02,\n",
              "          4.82687391e-02,  1.16598122e-02,  1.92348026e-02,\n",
              "          1.13852397e-02],\n",
              "        [ 3.76040675e-02,  1.75171383e-02, -2.06020232e-02,\n",
              "         -3.82276289e-02, -4.49288487e-02, -1.35497451e-02,\n",
              "         -4.42392603e-02, -4.73473184e-02,  3.76951732e-02,\n",
              "         -3.32457051e-02]]], dtype=float32)"
            ]
          },
          "metadata": {},
          "execution_count": 55
        }
      ]
    },
    {
      "cell_type": "code",
      "source": [
        "sent2=[\"The world is a better place\",\n",
        "      \"Marvel series is my favourite movie\",\n",
        "      \"I like DC movies\",\n",
        "      \"the cat is eating the food\",\n",
        "      \"Tom and Jerry is my favourite movie\",\n",
        "      \"Python is my favourite programming language\"\n",
        "      ]"
      ],
      "metadata": {
        "id": "_yBHFIfX7Xo2"
      },
      "execution_count": 56,
      "outputs": []
    },
    {
      "cell_type": "code",
      "source": [
        "voc_size=1000"
      ],
      "metadata": {
        "id": "xNJhZ2CY8_O2"
      },
      "execution_count": 57,
      "outputs": []
    },
    {
      "cell_type": "code",
      "source": [
        "sent2"
      ],
      "metadata": {
        "colab": {
          "base_uri": "https://localhost:8080/"
        },
        "id": "tmI3Hj689Hjw",
        "outputId": "fea49489-3782-4ba1-c48f-e957a2e320a0"
      },
      "execution_count": 58,
      "outputs": [
        {
          "output_type": "execute_result",
          "data": {
            "text/plain": [
              "['The world is a better place',\n",
              " 'Marvel series is my favourite movie',\n",
              " 'I like DC movies',\n",
              " 'the cat is eating the food',\n",
              " 'Tom and Jerry is my favourite movie',\n",
              " 'Python is my favourite programming language']"
            ]
          },
          "metadata": {},
          "execution_count": 58
        }
      ]
    },
    {
      "cell_type": "code",
      "source": [
        "onehot_repr=[one_hot(word,voc_size)for word in sent2]\n",
        "print(onehot_repr)"
      ],
      "metadata": {
        "colab": {
          "base_uri": "https://localhost:8080/"
        },
        "id": "P1LjKlMv9LrE",
        "outputId": "879074ec-3cd8-499e-826a-14d192ed0534"
      },
      "execution_count": 59,
      "outputs": [
        {
          "output_type": "stream",
          "name": "stdout",
          "text": [
            "[[921, 783, 66, 405, 865, 407], [661, 956, 66, 214, 291, 302], [418, 115, 30, 421], [921, 256, 66, 663, 921, 615], [229, 809, 609, 66, 214, 291, 302], [986, 66, 214, 291, 424, 380]]\n"
          ]
        }
      ]
    },
    {
      "cell_type": "code",
      "source": [
        "#pre padding\n",
        "from tensorflow.keras.layers import Embedding\n",
        "from tensorflow.keras.preprocessing.sequence import pad_sequences\n",
        "from tensorflow.keras.models import Sequential"
      ],
      "metadata": {
        "id": "pmdZUIl09gL9"
      },
      "execution_count": 61,
      "outputs": []
    },
    {
      "cell_type": "code",
      "source": [
        "sent_length=10\n",
        "embedded_docs=pad_sequences(onehot_repr,padding=\"pre\",maxlen=sent_length)\n",
        "print(embedded_docs)"
      ],
      "metadata": {
        "colab": {
          "base_uri": "https://localhost:8080/"
        },
        "id": "Cfc0vJoC9kTk",
        "outputId": "cdfaf002-01ae-4e40-cf2a-38385dfd4cd1"
      },
      "execution_count": 62,
      "outputs": [
        {
          "output_type": "stream",
          "name": "stdout",
          "text": [
            "[[  0   0   0   0 921 783  66 405 865 407]\n",
            " [  0   0   0   0 661 956  66 214 291 302]\n",
            " [  0   0   0   0   0   0 418 115  30 421]\n",
            " [  0   0   0   0 921 256  66 663 921 615]\n",
            " [  0   0   0 229 809 609  66 214 291 302]\n",
            " [  0   0   0   0 986  66 214 291 424 380]]\n"
          ]
        }
      ]
    },
    {
      "cell_type": "code",
      "source": [
        "model=Sequential()\n",
        "model.add(Embedding())"
      ],
      "metadata": {
        "id": "LqcA0fuX-A15"
      },
      "execution_count": 63,
      "outputs": []
    },
    {
      "cell_type": "code",
      "source": [
        "model=Sequential()\n",
        "model.add(Embedding(voc_size,10,))\n",
        "model.build(input_shape=(None, 10))\n",
        "model.compile('adam','mse')"
      ],
      "metadata": {
        "id": "BOzTsB1Y-IJK"
      },
      "execution_count": 66,
      "outputs": []
    },
    {
      "cell_type": "code",
      "source": [
        "model.summary()"
      ],
      "metadata": {
        "colab": {
          "base_uri": "https://localhost:8080/",
          "height": 161
        },
        "id": "fkPNC_WX-zFh",
        "outputId": "bf71a1f4-d1ce-497b-a459-c0e3e825867b"
      },
      "execution_count": 67,
      "outputs": [
        {
          "output_type": "display_data",
          "data": {
            "text/plain": [
              "\u001b[1mModel: \"sequential_8\"\u001b[0m\n"
            ],
            "text/html": [
              "<pre style=\"white-space:pre;overflow-x:auto;line-height:normal;font-family:Menlo,'DejaVu Sans Mono',consolas,'Courier New',monospace\"><span style=\"font-weight: bold\">Model: \"sequential_8\"</span>\n",
              "</pre>\n"
            ]
          },
          "metadata": {}
        },
        {
          "output_type": "display_data",
          "data": {
            "text/plain": [
              "┏━━━━━━━━━━━━━━━━━━━━━━━━━━━━━━━━━┳━━━━━━━━━━━━━━━━━━━━━━━━┳━━━━━━━━━━━━━━━┓\n",
              "┃\u001b[1m \u001b[0m\u001b[1mLayer (type)                   \u001b[0m\u001b[1m \u001b[0m┃\u001b[1m \u001b[0m\u001b[1mOutput Shape          \u001b[0m\u001b[1m \u001b[0m┃\u001b[1m \u001b[0m\u001b[1m      Param #\u001b[0m\u001b[1m \u001b[0m┃\n",
              "┡━━━━━━━━━━━━━━━━━━━━━━━━━━━━━━━━━╇━━━━━━━━━━━━━━━━━━━━━━━━╇━━━━━━━━━━━━━━━┩\n",
              "│ embedding_7 (\u001b[38;5;33mEmbedding\u001b[0m)         │ (\u001b[38;5;45mNone\u001b[0m, \u001b[38;5;34m10\u001b[0m, \u001b[38;5;34m10\u001b[0m)         │        \u001b[38;5;34m10,000\u001b[0m │\n",
              "└─────────────────────────────────┴────────────────────────┴───────────────┘\n"
            ],
            "text/html": [
              "<pre style=\"white-space:pre;overflow-x:auto;line-height:normal;font-family:Menlo,'DejaVu Sans Mono',consolas,'Courier New',monospace\">┏━━━━━━━━━━━━━━━━━━━━━━━━━━━━━━━━━┳━━━━━━━━━━━━━━━━━━━━━━━━┳━━━━━━━━━━━━━━━┓\n",
              "┃<span style=\"font-weight: bold\"> Layer (type)                    </span>┃<span style=\"font-weight: bold\"> Output Shape           </span>┃<span style=\"font-weight: bold\">       Param # </span>┃\n",
              "┡━━━━━━━━━━━━━━━━━━━━━━━━━━━━━━━━━╇━━━━━━━━━━━━━━━━━━━━━━━━╇━━━━━━━━━━━━━━━┩\n",
              "│ embedding_7 (<span style=\"color: #0087ff; text-decoration-color: #0087ff\">Embedding</span>)         │ (<span style=\"color: #00d7ff; text-decoration-color: #00d7ff\">None</span>, <span style=\"color: #00af00; text-decoration-color: #00af00\">10</span>, <span style=\"color: #00af00; text-decoration-color: #00af00\">10</span>)         │        <span style=\"color: #00af00; text-decoration-color: #00af00\">10,000</span> │\n",
              "└─────────────────────────────────┴────────────────────────┴───────────────┘\n",
              "</pre>\n"
            ]
          },
          "metadata": {}
        },
        {
          "output_type": "display_data",
          "data": {
            "text/plain": [
              "\u001b[1m Total params: \u001b[0m\u001b[38;5;34m10,000\u001b[0m (39.06 KB)\n"
            ],
            "text/html": [
              "<pre style=\"white-space:pre;overflow-x:auto;line-height:normal;font-family:Menlo,'DejaVu Sans Mono',consolas,'Courier New',monospace\"><span style=\"font-weight: bold\"> Total params: </span><span style=\"color: #00af00; text-decoration-color: #00af00\">10,000</span> (39.06 KB)\n",
              "</pre>\n"
            ]
          },
          "metadata": {}
        },
        {
          "output_type": "display_data",
          "data": {
            "text/plain": [
              "\u001b[1m Trainable params: \u001b[0m\u001b[38;5;34m10,000\u001b[0m (39.06 KB)\n"
            ],
            "text/html": [
              "<pre style=\"white-space:pre;overflow-x:auto;line-height:normal;font-family:Menlo,'DejaVu Sans Mono',consolas,'Courier New',monospace\"><span style=\"font-weight: bold\"> Trainable params: </span><span style=\"color: #00af00; text-decoration-color: #00af00\">10,000</span> (39.06 KB)\n",
              "</pre>\n"
            ]
          },
          "metadata": {}
        },
        {
          "output_type": "display_data",
          "data": {
            "text/plain": [
              "\u001b[1m Non-trainable params: \u001b[0m\u001b[38;5;34m0\u001b[0m (0.00 B)\n"
            ],
            "text/html": [
              "<pre style=\"white-space:pre;overflow-x:auto;line-height:normal;font-family:Menlo,'DejaVu Sans Mono',consolas,'Courier New',monospace\"><span style=\"font-weight: bold\"> Non-trainable params: </span><span style=\"color: #00af00; text-decoration-color: #00af00\">0</span> (0.00 B)\n",
              "</pre>\n"
            ]
          },
          "metadata": {}
        }
      ]
    },
    {
      "cell_type": "code",
      "source": [
        "#The world is a better place\n",
        "embedded_docs[0]"
      ],
      "metadata": {
        "colab": {
          "base_uri": "https://localhost:8080/"
        },
        "id": "MF0bW5ty-2U5",
        "outputId": "a6686661-93d0-438b-db66-75a3c929f774"
      },
      "execution_count": 69,
      "outputs": [
        {
          "output_type": "execute_result",
          "data": {
            "text/plain": [
              "array([  0,   0,   0,   0, 921, 783,  66, 405, 865, 407], dtype=int32)"
            ]
          },
          "metadata": {},
          "execution_count": 69
        }
      ]
    },
    {
      "cell_type": "code",
      "source": [
        "model.predict(np.expand_dims(embedded_docs[0], axis=0))"
      ],
      "metadata": {
        "colab": {
          "base_uri": "https://localhost:8080/"
        },
        "id": "33AMd7v2_eam",
        "outputId": "987649b2-5806-465f-f1ae-802b3ebf1332"
      },
      "execution_count": 70,
      "outputs": [
        {
          "output_type": "stream",
          "name": "stdout",
          "text": [
            "\u001b[1m1/1\u001b[0m \u001b[32m━━━━━━━━━━━━━━━━━━━━\u001b[0m\u001b[37m\u001b[0m \u001b[1m0s\u001b[0m 144ms/step\n"
          ]
        },
        {
          "output_type": "execute_result",
          "data": {
            "text/plain": [
              "array([[[-0.00856536, -0.04864797, -0.03913503, -0.02022322,\n",
              "         -0.02458534,  0.0375538 , -0.02651345,  0.02408369,\n",
              "         -0.02375157, -0.03168918],\n",
              "        [-0.00856536, -0.04864797, -0.03913503, -0.02022322,\n",
              "         -0.02458534,  0.0375538 , -0.02651345,  0.02408369,\n",
              "         -0.02375157, -0.03168918],\n",
              "        [-0.00856536, -0.04864797, -0.03913503, -0.02022322,\n",
              "         -0.02458534,  0.0375538 , -0.02651345,  0.02408369,\n",
              "         -0.02375157, -0.03168918],\n",
              "        [-0.00856536, -0.04864797, -0.03913503, -0.02022322,\n",
              "         -0.02458534,  0.0375538 , -0.02651345,  0.02408369,\n",
              "         -0.02375157, -0.03168918],\n",
              "        [-0.01598443,  0.04501947, -0.00387327, -0.00548538,\n",
              "          0.02721219,  0.0467512 , -0.03785992, -0.0005532 ,\n",
              "          0.01412085,  0.04368177],\n",
              "        [-0.02818767, -0.03016187, -0.01978211,  0.00737022,\n",
              "          0.01234734,  0.00767739, -0.02555348,  0.03542859,\n",
              "         -0.0421754 ,  0.00963595],\n",
              "        [ 0.03236772, -0.00317465,  0.04712318, -0.03845661,\n",
              "         -0.04100816,  0.03673375, -0.00169783,  0.04796834,\n",
              "         -0.04747584,  0.03978552],\n",
              "        [ 0.01555237,  0.03916566, -0.04058276,  0.00382807,\n",
              "          0.03393035,  0.01680822, -0.02000561, -0.03759701,\n",
              "          0.04675443, -0.03118338],\n",
              "        [ 0.00803722, -0.02982186,  0.01049709,  0.00407125,\n",
              "          0.03714607, -0.01199627,  0.03724447,  0.01176639,\n",
              "          0.04812809,  0.01714534],\n",
              "        [-0.00292794, -0.01108839, -0.00790054,  0.02177412,\n",
              "          0.02334709, -0.01882097,  0.02896148,  0.03797357,\n",
              "          0.0455688 ,  0.0102779 ]]], dtype=float32)"
            ]
          },
          "metadata": {},
          "execution_count": 70
        }
      ]
    },
    {
      "cell_type": "code",
      "source": [
        "model.predict(embedded_docs)"
      ],
      "metadata": {
        "colab": {
          "base_uri": "https://localhost:8080/"
        },
        "id": "k4UVWIBv_rou",
        "outputId": "058054c8-78b4-4ec3-d614-a6123b0cc780"
      },
      "execution_count": 71,
      "outputs": [
        {
          "output_type": "stream",
          "name": "stdout",
          "text": [
            "\u001b[1m1/1\u001b[0m \u001b[32m━━━━━━━━━━━━━━━━━━━━\u001b[0m\u001b[37m\u001b[0m \u001b[1m0s\u001b[0m 103ms/step\n"
          ]
        },
        {
          "output_type": "execute_result",
          "data": {
            "text/plain": [
              "array([[[-0.00856536, -0.04864797, -0.03913503, -0.02022322,\n",
              "         -0.02458534,  0.0375538 , -0.02651345,  0.02408369,\n",
              "         -0.02375157, -0.03168918],\n",
              "        [-0.00856536, -0.04864797, -0.03913503, -0.02022322,\n",
              "         -0.02458534,  0.0375538 , -0.02651345,  0.02408369,\n",
              "         -0.02375157, -0.03168918],\n",
              "        [-0.00856536, -0.04864797, -0.03913503, -0.02022322,\n",
              "         -0.02458534,  0.0375538 , -0.02651345,  0.02408369,\n",
              "         -0.02375157, -0.03168918],\n",
              "        [-0.00856536, -0.04864797, -0.03913503, -0.02022322,\n",
              "         -0.02458534,  0.0375538 , -0.02651345,  0.02408369,\n",
              "         -0.02375157, -0.03168918],\n",
              "        [-0.01598443,  0.04501947, -0.00387327, -0.00548538,\n",
              "          0.02721219,  0.0467512 , -0.03785992, -0.0005532 ,\n",
              "          0.01412085,  0.04368177],\n",
              "        [-0.02818767, -0.03016187, -0.01978211,  0.00737022,\n",
              "          0.01234734,  0.00767739, -0.02555348,  0.03542859,\n",
              "         -0.0421754 ,  0.00963595],\n",
              "        [ 0.03236772, -0.00317465,  0.04712318, -0.03845661,\n",
              "         -0.04100816,  0.03673375, -0.00169783,  0.04796834,\n",
              "         -0.04747584,  0.03978552],\n",
              "        [ 0.01555237,  0.03916566, -0.04058276,  0.00382807,\n",
              "          0.03393035,  0.01680822, -0.02000561, -0.03759701,\n",
              "          0.04675443, -0.03118338],\n",
              "        [ 0.00803722, -0.02982186,  0.01049709,  0.00407125,\n",
              "          0.03714607, -0.01199627,  0.03724447,  0.01176639,\n",
              "          0.04812809,  0.01714534],\n",
              "        [-0.00292794, -0.01108839, -0.00790054,  0.02177412,\n",
              "          0.02334709, -0.01882097,  0.02896148,  0.03797357,\n",
              "          0.0455688 ,  0.0102779 ]],\n",
              "\n",
              "       [[-0.00856536, -0.04864797, -0.03913503, -0.02022322,\n",
              "         -0.02458534,  0.0375538 , -0.02651345,  0.02408369,\n",
              "         -0.02375157, -0.03168918],\n",
              "        [-0.00856536, -0.04864797, -0.03913503, -0.02022322,\n",
              "         -0.02458534,  0.0375538 , -0.02651345,  0.02408369,\n",
              "         -0.02375157, -0.03168918],\n",
              "        [-0.00856536, -0.04864797, -0.03913503, -0.02022322,\n",
              "         -0.02458534,  0.0375538 , -0.02651345,  0.02408369,\n",
              "         -0.02375157, -0.03168918],\n",
              "        [-0.00856536, -0.04864797, -0.03913503, -0.02022322,\n",
              "         -0.02458534,  0.0375538 , -0.02651345,  0.02408369,\n",
              "         -0.02375157, -0.03168918],\n",
              "        [-0.02161336, -0.01018095,  0.04062817, -0.0397018 ,\n",
              "         -0.00339467,  0.02110912,  0.0258334 ,  0.02418492,\n",
              "         -0.04098611, -0.04395664],\n",
              "        [ 0.0205347 ,  0.02560587,  0.01224539,  0.04436291,\n",
              "         -0.0497543 , -0.03079027,  0.03750009,  0.03664768,\n",
              "          0.04332422, -0.04809251],\n",
              "        [ 0.03236772, -0.00317465,  0.04712318, -0.03845661,\n",
              "         -0.04100816,  0.03673375, -0.00169783,  0.04796834,\n",
              "         -0.04747584,  0.03978552],\n",
              "        [ 0.03105662,  0.01048174, -0.01824498, -0.03554089,\n",
              "          0.00397109,  0.02243239,  0.00530164, -0.02097296,\n",
              "          0.02347348, -0.03133766],\n",
              "        [-0.00293058, -0.02955505,  0.03131118, -0.00871193,\n",
              "         -0.02804695,  0.04818169, -0.03457057, -0.01514181,\n",
              "          0.02626306,  0.04188878],\n",
              "        [-0.0367692 , -0.0249009 ,  0.03126763, -0.02956544,\n",
              "         -0.01160262, -0.02767632,  0.00340364,  0.0466348 ,\n",
              "         -0.02231753, -0.02205582]],\n",
              "\n",
              "       [[-0.00856536, -0.04864797, -0.03913503, -0.02022322,\n",
              "         -0.02458534,  0.0375538 , -0.02651345,  0.02408369,\n",
              "         -0.02375157, -0.03168918],\n",
              "        [-0.00856536, -0.04864797, -0.03913503, -0.02022322,\n",
              "         -0.02458534,  0.0375538 , -0.02651345,  0.02408369,\n",
              "         -0.02375157, -0.03168918],\n",
              "        [-0.00856536, -0.04864797, -0.03913503, -0.02022322,\n",
              "         -0.02458534,  0.0375538 , -0.02651345,  0.02408369,\n",
              "         -0.02375157, -0.03168918],\n",
              "        [-0.00856536, -0.04864797, -0.03913503, -0.02022322,\n",
              "         -0.02458534,  0.0375538 , -0.02651345,  0.02408369,\n",
              "         -0.02375157, -0.03168918],\n",
              "        [-0.00856536, -0.04864797, -0.03913503, -0.02022322,\n",
              "         -0.02458534,  0.0375538 , -0.02651345,  0.02408369,\n",
              "         -0.02375157, -0.03168918],\n",
              "        [-0.00856536, -0.04864797, -0.03913503, -0.02022322,\n",
              "         -0.02458534,  0.0375538 , -0.02651345,  0.02408369,\n",
              "         -0.02375157, -0.03168918],\n",
              "        [ 0.0466685 ,  0.02497706, -0.00956379, -0.02922902,\n",
              "          0.02066548, -0.0347432 ,  0.00372825,  0.00774606,\n",
              "         -0.02188357, -0.01594864],\n",
              "        [ 0.03603717, -0.04462918, -0.02536675,  0.0324701 ,\n",
              "         -0.04259687,  0.04354003,  0.01139358,  0.01234867,\n",
              "         -0.01771413,  0.01234042],\n",
              "        [-0.04153278,  0.01934944,  0.04511214,  0.02863212,\n",
              "          0.04628373, -0.0036788 ,  0.03206611,  0.02463043,\n",
              "          0.04575629,  0.00899515],\n",
              "        [ 0.02581772, -0.00512581,  0.03854947,  0.03883015,\n",
              "          0.03131893, -0.01779717,  0.0126586 , -0.01140064,\n",
              "          0.02630243, -0.03408984]],\n",
              "\n",
              "       [[-0.00856536, -0.04864797, -0.03913503, -0.02022322,\n",
              "         -0.02458534,  0.0375538 , -0.02651345,  0.02408369,\n",
              "         -0.02375157, -0.03168918],\n",
              "        [-0.00856536, -0.04864797, -0.03913503, -0.02022322,\n",
              "         -0.02458534,  0.0375538 , -0.02651345,  0.02408369,\n",
              "         -0.02375157, -0.03168918],\n",
              "        [-0.00856536, -0.04864797, -0.03913503, -0.02022322,\n",
              "         -0.02458534,  0.0375538 , -0.02651345,  0.02408369,\n",
              "         -0.02375157, -0.03168918],\n",
              "        [-0.00856536, -0.04864797, -0.03913503, -0.02022322,\n",
              "         -0.02458534,  0.0375538 , -0.02651345,  0.02408369,\n",
              "         -0.02375157, -0.03168918],\n",
              "        [-0.01598443,  0.04501947, -0.00387327, -0.00548538,\n",
              "          0.02721219,  0.0467512 , -0.03785992, -0.0005532 ,\n",
              "          0.01412085,  0.04368177],\n",
              "        [-0.019627  ,  0.01821277, -0.02488402, -0.03487398,\n",
              "          0.02554253, -0.03736066,  0.02731446, -0.04014475,\n",
              "          0.0024947 ,  0.00940371],\n",
              "        [ 0.03236772, -0.00317465,  0.04712318, -0.03845661,\n",
              "         -0.04100816,  0.03673375, -0.00169783,  0.04796834,\n",
              "         -0.04747584,  0.03978552],\n",
              "        [ 0.03141847, -0.01430628,  0.02140534, -0.04038457,\n",
              "          0.02080721,  0.03664557, -0.02468392,  0.02035191,\n",
              "          0.01240436, -0.0310941 ],\n",
              "        [-0.01598443,  0.04501947, -0.00387327, -0.00548538,\n",
              "          0.02721219,  0.0467512 , -0.03785992, -0.0005532 ,\n",
              "          0.01412085,  0.04368177],\n",
              "        [ 0.0388169 , -0.04594617,  0.0307528 , -0.0257642 ,\n",
              "          0.03797296,  0.04292986, -0.00593571,  0.00480144,\n",
              "         -0.01785183,  0.02155675]],\n",
              "\n",
              "       [[-0.00856536, -0.04864797, -0.03913503, -0.02022322,\n",
              "         -0.02458534,  0.0375538 , -0.02651345,  0.02408369,\n",
              "         -0.02375157, -0.03168918],\n",
              "        [-0.00856536, -0.04864797, -0.03913503, -0.02022322,\n",
              "         -0.02458534,  0.0375538 , -0.02651345,  0.02408369,\n",
              "         -0.02375157, -0.03168918],\n",
              "        [-0.00856536, -0.04864797, -0.03913503, -0.02022322,\n",
              "         -0.02458534,  0.0375538 , -0.02651345,  0.02408369,\n",
              "         -0.02375157, -0.03168918],\n",
              "        [-0.03116585, -0.00644954, -0.04474242, -0.04095192,\n",
              "         -0.00173556,  0.04347266, -0.00358691,  0.03337778,\n",
              "          0.01270965, -0.02075992],\n",
              "        [-0.01563132, -0.02927719, -0.04666359, -0.02163129,\n",
              "          0.01676222, -0.00280003,  0.00557486,  0.0069988 ,\n",
              "          0.04647112,  0.0117164 ],\n",
              "        [ 0.00592558, -0.02012805,  0.04529664,  0.01788778,\n",
              "          0.04627564,  0.03182343,  0.04063923, -0.02784364,\n",
              "          0.01575236, -0.0376938 ],\n",
              "        [ 0.03236772, -0.00317465,  0.04712318, -0.03845661,\n",
              "         -0.04100816,  0.03673375, -0.00169783,  0.04796834,\n",
              "         -0.04747584,  0.03978552],\n",
              "        [ 0.03105662,  0.01048174, -0.01824498, -0.03554089,\n",
              "          0.00397109,  0.02243239,  0.00530164, -0.02097296,\n",
              "          0.02347348, -0.03133766],\n",
              "        [-0.00293058, -0.02955505,  0.03131118, -0.00871193,\n",
              "         -0.02804695,  0.04818169, -0.03457057, -0.01514181,\n",
              "          0.02626306,  0.04188878],\n",
              "        [-0.0367692 , -0.0249009 ,  0.03126763, -0.02956544,\n",
              "         -0.01160262, -0.02767632,  0.00340364,  0.0466348 ,\n",
              "         -0.02231753, -0.02205582]],\n",
              "\n",
              "       [[-0.00856536, -0.04864797, -0.03913503, -0.02022322,\n",
              "         -0.02458534,  0.0375538 , -0.02651345,  0.02408369,\n",
              "         -0.02375157, -0.03168918],\n",
              "        [-0.00856536, -0.04864797, -0.03913503, -0.02022322,\n",
              "         -0.02458534,  0.0375538 , -0.02651345,  0.02408369,\n",
              "         -0.02375157, -0.03168918],\n",
              "        [-0.00856536, -0.04864797, -0.03913503, -0.02022322,\n",
              "         -0.02458534,  0.0375538 , -0.02651345,  0.02408369,\n",
              "         -0.02375157, -0.03168918],\n",
              "        [-0.00856536, -0.04864797, -0.03913503, -0.02022322,\n",
              "         -0.02458534,  0.0375538 , -0.02651345,  0.02408369,\n",
              "         -0.02375157, -0.03168918],\n",
              "        [-0.00316477,  0.04731997, -0.04265898,  0.01783121,\n",
              "         -0.00800222,  0.02016557, -0.01711855, -0.00213243,\n",
              "         -0.03782643, -0.00924619],\n",
              "        [ 0.03236772, -0.00317465,  0.04712318, -0.03845661,\n",
              "         -0.04100816,  0.03673375, -0.00169783,  0.04796834,\n",
              "         -0.04747584,  0.03978552],\n",
              "        [ 0.03105662,  0.01048174, -0.01824498, -0.03554089,\n",
              "          0.00397109,  0.02243239,  0.00530164, -0.02097296,\n",
              "          0.02347348, -0.03133766],\n",
              "        [-0.00293058, -0.02955505,  0.03131118, -0.00871193,\n",
              "         -0.02804695,  0.04818169, -0.03457057, -0.01514181,\n",
              "          0.02626306,  0.04188878],\n",
              "        [ 0.01225249, -0.01998792,  0.02132075, -0.02128221,\n",
              "         -0.04214245,  0.01018212, -0.02416018, -0.02992445,\n",
              "          0.02975816, -0.02477504],\n",
              "        [ 0.03305789,  0.02827584, -0.03700275,  0.01318036,\n",
              "          0.01203827,  0.03700154, -0.02991552,  0.04425534,\n",
              "          0.02451971, -0.0488526 ]]], dtype=float32)"
            ]
          },
          "metadata": {},
          "execution_count": 71
        }
      ]
    },
    {
      "cell_type": "markdown",
      "source": [
        "**\"The world is a better place\",\n",
        "      \"Marvel series is my favourite movie\",\n",
        "      \"I like DC movies\",\n",
        "      \"the cat is eating the food\",\n",
        "      \"Tom and Jerry is my favourite movie\",\n",
        "      \"Python is my favourite programming language\"**"
      ],
      "metadata": {
        "id": "MU76tiFY_6sR"
      }
    },
    {
      "cell_type": "markdown",
      "source": [
        "all of each sentences is converted to vectors"
      ],
      "metadata": {
        "id": "RXyLdNLtADIX"
      }
    },
    {
      "cell_type": "code",
      "source": [],
      "metadata": {
        "id": "vyyKY8Qm_wde"
      },
      "execution_count": 71,
      "outputs": []
    }
  ]
}