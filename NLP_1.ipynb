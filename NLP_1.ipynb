{
  "nbformat": 4,
  "nbformat_minor": 0,
  "metadata": {
    "colab": {
      "provenance": [],
      "authorship_tag": "ABX9TyOXLfP20TpQCamMzhut+YsL",
      "include_colab_link": true
    },
    "kernelspec": {
      "name": "python3",
      "display_name": "Python 3"
    },
    "language_info": {
      "name": "python"
    }
  },
  "cells": [
    {
      "cell_type": "markdown",
      "metadata": {
        "id": "view-in-github",
        "colab_type": "text"
      },
      "source": [
        "<a href=\"https://colab.research.google.com/github/Salah0Uddin/NLP_Learning/blob/main/NLP_1.ipynb\" target=\"_parent\"><img src=\"https://colab.research.google.com/assets/colab-badge.svg\" alt=\"Open In Colab\"/></a>"
      ]
    },
    {
      "cell_type": "code",
      "execution_count": null,
      "metadata": {
        "colab": {
          "base_uri": "https://localhost:8080/"
        },
        "id": "gNsB09H7w3dD",
        "outputId": "3fba6883-d689-4ad5-9e79-8426e97bf993"
      },
      "outputs": [
        {
          "output_type": "stream",
          "name": "stdout",
          "text": [
            "Requirement already satisfied: nltk in /usr/local/lib/python3.11/dist-packages (3.9.1)\n",
            "Requirement already satisfied: click in /usr/local/lib/python3.11/dist-packages (from nltk) (8.2.1)\n",
            "Requirement already satisfied: joblib in /usr/local/lib/python3.11/dist-packages (from nltk) (1.5.1)\n",
            "Requirement already satisfied: regex>=2021.8.3 in /usr/local/lib/python3.11/dist-packages (from nltk) (2024.11.6)\n",
            "Requirement already satisfied: tqdm in /usr/local/lib/python3.11/dist-packages (from nltk) (4.67.1)\n"
          ]
        }
      ],
      "source": [
        "!pip install nltk"
      ]
    },
    {
      "cell_type": "code",
      "source": [
        "paragraph='''\n",
        "Elon Reeve Musk was born on June 28, 1971, in Pretoria, South Africa's administrative capital.[2][3] He is of British and Pennsylvania Dutch ancestry.[4][5] His mother, Maye (née Haldeman), is a model and dietitian born in Saskatchewan, Canada, and raised in South Africa.[6][7][8] His father, Errol Musk, is a South African electromechanical engineer, pilot, sailor, consultant, emerald dealer, and property developer, who partly owned a rental lodge at Timbavati Private Nature Reserve.[9][10][11][12] His maternal grandfather, Joshua N. Haldeman, who died in a plane crash when Elon was a toddler, was an American-born Canadian chiropractor, aviator and political activist in the Technocracy movement[13][14] who moved to South Africa in 1950.[15] Haldeman's anti-government, anti-democratic and conspiracist views, which included the promotion of far-right antisemitic conspiracy theories,[16][17] \"fanatical\" support of apartheid,[17] and according to Errol Musk, support of Nazism,[18] have been suggested as an influence on Elon.[19][20][21][22] During his childhood, Elon was told stories by his grandmother of Haldeman's travels and exploits, and Elon has suggested that all of Haldeman's descendants have his \"desire for adventure, exploration – doing crazy things\".[23]\n",
        "\n",
        "Elon has a younger brother, Kimbal, a younger sister, Tosca, and four paternal half-siblings.[24][25][8][26] Musk was raised in the Anglican Church, in which he was baptized.[27][28] The Musk family was wealthy during Elon's youth.[12] Despite both Elon and Errol previously stating that Errol was a part owner of a Zambian emerald mine,[12] in 2023, Errol recounted that the deal he made was to receive \"a portion of the emeralds produced at three small mines\".[29][30] Errol was elected to the Pretoria City Council as a representative of the anti-apartheid Progressive Party and has said that his children shared their father's dislike of apartheid.\n",
        "'''"
      ],
      "metadata": {
        "id": "0vynjSEQxHJJ"
      },
      "execution_count": null,
      "outputs": []
    },
    {
      "cell_type": "code",
      "source": [
        "paragraph"
      ],
      "metadata": {
        "colab": {
          "base_uri": "https://localhost:8080/",
          "height": 127
        },
        "id": "rTRdur4LxiJO",
        "outputId": "444bf823-6dc6-4f98-c72d-8c18f4192fc6"
      },
      "execution_count": null,
      "outputs": [
        {
          "output_type": "execute_result",
          "data": {
            "text/plain": [
              "'\\nElon Reeve Musk was born on June 28, 1971, in Pretoria, South Africa\\'s administrative capital.[2][3] He is of British and Pennsylvania Dutch ancestry.[4][5] His mother, Maye (née Haldeman), is a model and dietitian born in Saskatchewan, Canada, and raised in South Africa.[6][7][8] His father, Errol Musk, is a South African electromechanical engineer, pilot, sailor, consultant, emerald dealer, and property developer, who partly owned a rental lodge at Timbavati Private Nature Reserve.[9][10][11][12] His maternal grandfather, Joshua N. Haldeman, who died in a plane crash when Elon was a toddler, was an American-born Canadian chiropractor, aviator and political activist in the Technocracy movement[13][14] who moved to South Africa in 1950.[15] Haldeman\\'s anti-government, anti-democratic and conspiracist views, which included the promotion of far-right antisemitic conspiracy theories,[16][17] \"fanatical\" support of apartheid,[17] and according to Errol Musk, support of Nazism,[18] have been suggested as an influence on Elon.[19][20][21][22] During his childhood, Elon was told stories by his grandmother of Haldeman\\'s travels and exploits, and Elon has suggested that all of Haldeman\\'s descendants have his \"desire for adventure, exploration – doing crazy things\".[23]\\n\\nElon has a younger brother, Kimbal, a younger sister, Tosca, and four paternal half-siblings.[24][25][8][26] Musk was raised in the Anglican Church, in which he was baptized.[27][28] The Musk family was wealthy during Elon\\'s youth.[12] Despite both Elon and Errol previously stating that Errol was a part owner of a Zambian emerald mine,[12] in 2023, Errol recounted that the deal he made was to receive \"a portion of the emeralds produced at three small mines\".[29][30] Errol was elected to the Pretoria City Council as a representative of the anti-apartheid Progressive Party and has said that his children shared their father\\'s dislike of apartheid.\\n'"
            ],
            "application/vnd.google.colaboratory.intrinsic+json": {
              "type": "string"
            }
          },
          "metadata": {},
          "execution_count": 40
        }
      ]
    },
    {
      "cell_type": "code",
      "source": [
        "import nltk\n",
        "from nltk.stem import PorterStemmer\n",
        "from nltk.corpus import stopwords"
      ],
      "metadata": {
        "id": "CaOJ_AH_xj1f"
      },
      "execution_count": null,
      "outputs": []
    },
    {
      "cell_type": "markdown",
      "source": [
        "**Tokenization converting sentence to words**"
      ],
      "metadata": {
        "id": "5yVCEQIGyH2g"
      }
    },
    {
      "cell_type": "code",
      "source": [
        "nltk.download(\"punkt\")\n",
        "nltk.download(\"punkt_tab\")\n",
        "sentences=nltk.sent_tokenize(paragraph)"
      ],
      "metadata": {
        "colab": {
          "base_uri": "https://localhost:8080/"
        },
        "id": "tTLQXQnNx6GY",
        "outputId": "08efa30b-ff92-4b4e-fc0f-2f600290cdd7"
      },
      "execution_count": null,
      "outputs": [
        {
          "output_type": "stream",
          "name": "stderr",
          "text": [
            "[nltk_data] Downloading package punkt to /root/nltk_data...\n",
            "[nltk_data]   Package punkt is already up-to-date!\n",
            "[nltk_data] Downloading package punkt_tab to /root/nltk_data...\n",
            "[nltk_data]   Unzipping tokenizers/punkt_tab.zip.\n"
          ]
        }
      ]
    },
    {
      "cell_type": "code",
      "source": [
        "sentences"
      ],
      "metadata": {
        "colab": {
          "base_uri": "https://localhost:8080/"
        },
        "id": "aDdIC9pgyjza",
        "outputId": "00a55a42-2b52-4d78-c0e0-0563df6a3785"
      },
      "execution_count": null,
      "outputs": [
        {
          "output_type": "execute_result",
          "data": {
            "text/plain": [
              "[\"\\nElon Reeve Musk was born on June 28, 1971, in Pretoria, South Africa's administrative capital.\",\n",
              " '[2][3] He is of British and Pennsylvania Dutch ancestry.',\n",
              " '[4][5] His mother, Maye (née Haldeman), is a model and dietitian born in Saskatchewan, Canada, and raised in South Africa.',\n",
              " '[6][7][8] His father, Errol Musk, is a South African electromechanical engineer, pilot, sailor, consultant, emerald dealer, and property developer, who partly owned a rental lodge at Timbavati Private Nature Reserve.',\n",
              " '[9][10][11][12] His maternal grandfather, Joshua N. Haldeman, who died in a plane crash when Elon was a toddler, was an American-born Canadian chiropractor, aviator and political activist in the Technocracy movement[13][14] who moved to South Africa in 1950.',\n",
              " '[15] Haldeman\\'s anti-government, anti-democratic and conspiracist views, which included the promotion of far-right antisemitic conspiracy theories,[16][17] \"fanatical\" support of apartheid,[17] and according to Errol Musk, support of Nazism,[18] have been suggested as an influence on Elon.',\n",
              " '[19][20][21][22] During his childhood, Elon was told stories by his grandmother of Haldeman\\'s travels and exploits, and Elon has suggested that all of Haldeman\\'s descendants have his \"desire for adventure, exploration – doing crazy things\".',\n",
              " '[23]\\n\\nElon has a younger brother, Kimbal, a younger sister, Tosca, and four paternal half-siblings.',\n",
              " '[24][25][8][26] Musk was raised in the Anglican Church, in which he was baptized.',\n",
              " \"[27][28] The Musk family was wealthy during Elon's youth.\",\n",
              " '[12] Despite both Elon and Errol previously stating that Errol was a part owner of a Zambian emerald mine,[12] in 2023, Errol recounted that the deal he made was to receive \"a portion of the emeralds produced at three small mines\".',\n",
              " \"[29][30] Errol was elected to the Pretoria City Council as a representative of the anti-apartheid Progressive Party and has said that his children shared their father's dislike of apartheid.\"]"
            ]
          },
          "metadata": {},
          "execution_count": 7
        }
      ]
    },
    {
      "cell_type": "code",
      "source": [
        "type(sentences)"
      ],
      "metadata": {
        "colab": {
          "base_uri": "https://localhost:8080/"
        },
        "id": "yqDoei2ly4Pp",
        "outputId": "dfe1d621-fdd6-4aab-e7c1-1972d64447d7"
      },
      "execution_count": null,
      "outputs": [
        {
          "output_type": "execute_result",
          "data": {
            "text/plain": [
              "list"
            ]
          },
          "metadata": {},
          "execution_count": 8
        }
      ]
    },
    {
      "cell_type": "code",
      "source": [
        "stemmer=PorterStemmer()\n"
      ],
      "metadata": {
        "id": "JTVhS5AezG82"
      },
      "execution_count": null,
      "outputs": []
    },
    {
      "cell_type": "code",
      "source": [
        "stemmer.stem(\"going\")"
      ],
      "metadata": {
        "colab": {
          "base_uri": "https://localhost:8080/",
          "height": 36
        },
        "id": "dW0JOgzrzpiB",
        "outputId": "f6797696-45b1-4dba-9811-9a46b38feafc"
      },
      "execution_count": null,
      "outputs": [
        {
          "output_type": "execute_result",
          "data": {
            "text/plain": [
              "'go'"
            ],
            "application/vnd.google.colaboratory.intrinsic+json": {
              "type": "string"
            }
          },
          "metadata": {},
          "execution_count": 10
        }
      ]
    },
    {
      "cell_type": "code",
      "source": [
        "stemmer.stem(\"History\")"
      ],
      "metadata": {
        "colab": {
          "base_uri": "https://localhost:8080/",
          "height": 36
        },
        "id": "nBeArde9zuzn",
        "outputId": "b95887bd-4a99-4af3-a5f9-2097684b6fe2"
      },
      "execution_count": null,
      "outputs": [
        {
          "output_type": "execute_result",
          "data": {
            "text/plain": [
              "'histori'"
            ],
            "application/vnd.google.colaboratory.intrinsic+json": {
              "type": "string"
            }
          },
          "metadata": {},
          "execution_count": 11
        }
      ]
    },
    {
      "cell_type": "code",
      "source": [
        "from nltk.stem import WordNetLemmatizer"
      ],
      "metadata": {
        "id": "9sAzQ0CHz9hW"
      },
      "execution_count": null,
      "outputs": []
    },
    {
      "cell_type": "code",
      "source": [
        "lemmatizer=WordNetLemmatizer()"
      ],
      "metadata": {
        "id": "3VxLBduk0BIx"
      },
      "execution_count": null,
      "outputs": []
    },
    {
      "cell_type": "code",
      "source": [
        "nltk.download(\"wordnet\")\n",
        "lemmatizer.lemmatize(\"History\")"
      ],
      "metadata": {
        "colab": {
          "base_uri": "https://localhost:8080/",
          "height": 54
        },
        "id": "Osy56bpG0En-",
        "outputId": "cdbbe9a4-f7b3-4d6d-f01c-4b5b39361f70"
      },
      "execution_count": null,
      "outputs": [
        {
          "output_type": "stream",
          "name": "stderr",
          "text": [
            "[nltk_data] Downloading package wordnet to /root/nltk_data...\n"
          ]
        },
        {
          "output_type": "execute_result",
          "data": {
            "text/plain": [
              "'History'"
            ],
            "application/vnd.google.colaboratory.intrinsic+json": {
              "type": "string"
            }
          },
          "metadata": {},
          "execution_count": 15
        }
      ]
    },
    {
      "cell_type": "code",
      "source": [
        "import re"
      ],
      "metadata": {
        "id": "sxX_O6aQ0Iht"
      },
      "execution_count": null,
      "outputs": []
    },
    {
      "cell_type": "code",
      "source": [
        "len(sentences)"
      ],
      "metadata": {
        "colab": {
          "base_uri": "https://localhost:8080/"
        },
        "id": "Bdj3B1ce1C2k",
        "outputId": "f73d0dce-30c6-413c-83dc-0febcba58f15"
      },
      "execution_count": null,
      "outputs": [
        {
          "output_type": "execute_result",
          "data": {
            "text/plain": [
              "12"
            ]
          },
          "metadata": {},
          "execution_count": 17
        }
      ]
    },
    {
      "cell_type": "code",
      "source": [
        "#cleaning the corpus\n",
        "corpus=[]\n",
        "\n",
        "for i in range(len(sentences)):\n",
        "  review=re.sub(\"[^a-zA-Z]\",\" \",sentences[i])\n",
        "  review=review.lower()\n",
        "  review=review.split()\n",
        "  review=\" \".join(review)\n",
        "  corpus.append(review)"
      ],
      "metadata": {
        "id": "isF1tpWR0_Tb"
      },
      "execution_count": null,
      "outputs": []
    },
    {
      "cell_type": "code",
      "source": [
        "corpus"
      ],
      "metadata": {
        "colab": {
          "base_uri": "https://localhost:8080/"
        },
        "id": "RQwu-aYg2QQi",
        "outputId": "bf703634-4cdb-4d0d-96fc-4976f2a47c7b"
      },
      "execution_count": null,
      "outputs": [
        {
          "output_type": "execute_result",
          "data": {
            "text/plain": [
              "['elon reeve musk was born on june in pretoria south africa s administrative capital',\n",
              " 'he is of british and pennsylvania dutch ancestry',\n",
              " 'his mother maye n e haldeman is a model and dietitian born in saskatchewan canada and raised in south africa',\n",
              " 'his father errol musk is a south african electromechanical engineer pilot sailor consultant emerald dealer and property developer who partly owned a rental lodge at timbavati private nature reserve',\n",
              " 'his maternal grandfather joshua n haldeman who died in a plane crash when elon was a toddler was an american born canadian chiropractor aviator and political activist in the technocracy movement who moved to south africa in',\n",
              " 'haldeman s anti government anti democratic and conspiracist views which included the promotion of far right antisemitic conspiracy theories fanatical support of apartheid and according to errol musk support of nazism have been suggested as an influence on elon',\n",
              " 'during his childhood elon was told stories by his grandmother of haldeman s travels and exploits and elon has suggested that all of haldeman s descendants have his desire for adventure exploration doing crazy things',\n",
              " 'elon has a younger brother kimbal a younger sister tosca and four paternal half siblings',\n",
              " 'musk was raised in the anglican church in which he was baptized',\n",
              " 'the musk family was wealthy during elon s youth',\n",
              " 'despite both elon and errol previously stating that errol was a part owner of a zambian emerald mine in errol recounted that the deal he made was to receive a portion of the emeralds produced at three small mines',\n",
              " 'errol was elected to the pretoria city council as a representative of the anti apartheid progressive party and has said that his children shared their father s dislike of apartheid']"
            ]
          },
          "metadata": {},
          "execution_count": 26
        }
      ]
    },
    {
      "cell_type": "code",
      "source": [
        "#Stemming\n",
        "\n",
        "nltk.download(\"stopwords\")\n",
        "for i in corpus:\n",
        "  words=nltk.word_tokenize(i)\n",
        "  for word in words:\n",
        "    if word not in set(stopwords.words(\"english\")):\n",
        "      print(stemmer.stem(word))"
      ],
      "metadata": {
        "colab": {
          "base_uri": "https://localhost:8080/"
        },
        "id": "G40vDVGL2SC1",
        "outputId": "d097dca2-7313-486b-a3de-9f4354b963c7"
      },
      "execution_count": null,
      "outputs": [
        {
          "output_type": "stream",
          "name": "stdout",
          "text": [
            "elon\n",
            "reev\n",
            "musk\n",
            "born\n",
            "june\n",
            "pretoria\n",
            "south\n",
            "africa\n",
            "administr\n",
            "capit\n",
            "british\n",
            "pennsylvania\n",
            "dutch\n",
            "ancestri\n",
            "mother\n",
            "may\n",
            "n\n",
            "e\n",
            "haldeman\n",
            "model\n",
            "dietitian\n",
            "born\n",
            "saskatchewan\n",
            "canada\n",
            "rais\n",
            "south\n",
            "africa\n",
            "father\n",
            "errol\n",
            "musk\n",
            "south\n",
            "african\n",
            "electromechan\n",
            "engin\n",
            "pilot\n",
            "sailor\n",
            "consult\n",
            "emerald\n",
            "dealer\n",
            "properti\n",
            "develop\n",
            "partli\n",
            "own\n",
            "rental\n",
            "lodg\n",
            "timbavati\n",
            "privat\n",
            "natur\n",
            "reserv\n",
            "matern\n",
            "grandfath\n",
            "joshua\n",
            "n\n",
            "haldeman\n",
            "die\n",
            "plane\n",
            "crash\n",
            "elon\n",
            "toddler\n",
            "american\n",
            "born\n",
            "canadian\n",
            "chiropractor\n",
            "aviat\n",
            "polit\n",
            "activist\n",
            "technocraci\n",
            "movement\n",
            "move\n",
            "south\n",
            "africa\n",
            "haldeman\n",
            "anti\n",
            "govern\n",
            "anti\n",
            "democrat\n",
            "conspiracist\n",
            "view\n",
            "includ\n",
            "promot\n",
            "far\n",
            "right\n",
            "antisemit\n",
            "conspiraci\n",
            "theori\n",
            "fanat\n",
            "support\n",
            "apartheid\n",
            "accord\n",
            "errol\n",
            "musk\n",
            "support\n",
            "nazism\n",
            "suggest\n",
            "influenc\n",
            "elon\n",
            "childhood\n",
            "elon\n",
            "told\n",
            "stori\n",
            "grandmoth\n",
            "haldeman\n",
            "travel\n",
            "exploit\n",
            "elon\n",
            "suggest\n",
            "haldeman\n",
            "descend\n",
            "desir\n",
            "adventur\n",
            "explor\n",
            "crazi\n",
            "thing\n",
            "elon\n",
            "younger\n",
            "brother\n",
            "kimbal\n",
            "younger\n",
            "sister\n",
            "tosca\n",
            "four\n",
            "patern\n",
            "half\n",
            "sibl\n",
            "musk\n",
            "rais\n",
            "anglican\n",
            "church\n",
            "baptiz\n",
            "musk\n",
            "famili\n",
            "wealthi\n",
            "elon\n",
            "youth\n",
            "despit\n",
            "elon\n",
            "errol\n",
            "previous\n",
            "state\n",
            "errol\n",
            "part\n",
            "owner\n",
            "zambian\n",
            "emerald\n",
            "mine\n",
            "errol\n",
            "recount\n",
            "deal\n",
            "made\n",
            "receiv\n",
            "portion\n",
            "emerald\n",
            "produc\n",
            "three\n",
            "small\n",
            "mine\n",
            "errol\n",
            "elect\n",
            "pretoria\n",
            "citi\n",
            "council\n",
            "repres\n",
            "anti\n",
            "apartheid\n",
            "progress\n",
            "parti\n",
            "said\n",
            "children\n",
            "share\n",
            "father\n",
            "dislik\n",
            "apartheid\n"
          ]
        },
        {
          "output_type": "stream",
          "name": "stderr",
          "text": [
            "[nltk_data] Downloading package stopwords to /root/nltk_data...\n",
            "[nltk_data]   Package stopwords is already up-to-date!\n"
          ]
        }
      ]
    },
    {
      "cell_type": "code",
      "source": [
        "#lemmatization\n",
        "\n",
        "for i in corpus:\n",
        "  words=nltk.word_tokenize(i)\n",
        "  for word in words:\n",
        "    if word not in set(stopwords.words(\"english\")):\n",
        "      word=lemmatizer.lemmatize(word)\n",
        "      print(word)"
      ],
      "metadata": {
        "colab": {
          "base_uri": "https://localhost:8080/"
        },
        "id": "95xhI3_E3ffb",
        "outputId": "7932b23b-24b5-4e06-df42-392623291f1b"
      },
      "execution_count": null,
      "outputs": [
        {
          "output_type": "stream",
          "name": "stdout",
          "text": [
            "elon\n",
            "reeve\n",
            "musk\n",
            "born\n",
            "june\n",
            "pretoria\n",
            "south\n",
            "africa\n",
            "administrative\n",
            "capital\n",
            "british\n",
            "pennsylvania\n",
            "dutch\n",
            "ancestry\n",
            "mother\n",
            "maye\n",
            "n\n",
            "e\n",
            "haldeman\n",
            "model\n",
            "dietitian\n",
            "born\n",
            "saskatchewan\n",
            "canada\n",
            "raised\n",
            "south\n",
            "africa\n",
            "father\n",
            "errol\n",
            "musk\n",
            "south\n",
            "african\n",
            "electromechanical\n",
            "engineer\n",
            "pilot\n",
            "sailor\n",
            "consultant\n",
            "emerald\n",
            "dealer\n",
            "property\n",
            "developer\n",
            "partly\n",
            "owned\n",
            "rental\n",
            "lodge\n",
            "timbavati\n",
            "private\n",
            "nature\n",
            "reserve\n",
            "maternal\n",
            "grandfather\n",
            "joshua\n",
            "n\n",
            "haldeman\n",
            "died\n",
            "plane\n",
            "crash\n",
            "elon\n",
            "toddler\n",
            "american\n",
            "born\n",
            "canadian\n",
            "chiropractor\n",
            "aviator\n",
            "political\n",
            "activist\n",
            "technocracy\n",
            "movement\n",
            "moved\n",
            "south\n",
            "africa\n",
            "haldeman\n",
            "anti\n",
            "government\n",
            "anti\n",
            "democratic\n",
            "conspiracist\n",
            "view\n",
            "included\n",
            "promotion\n",
            "far\n",
            "right\n",
            "antisemitic\n",
            "conspiracy\n",
            "theory\n",
            "fanatical\n",
            "support\n",
            "apartheid\n",
            "according\n",
            "errol\n",
            "musk\n",
            "support\n",
            "nazism\n",
            "suggested\n",
            "influence\n",
            "elon\n",
            "childhood\n",
            "elon\n",
            "told\n",
            "story\n",
            "grandmother\n",
            "haldeman\n",
            "travel\n",
            "exploit\n",
            "elon\n",
            "suggested\n",
            "haldeman\n",
            "descendant\n",
            "desire\n",
            "adventure\n",
            "exploration\n",
            "crazy\n",
            "thing\n",
            "elon\n",
            "younger\n",
            "brother\n",
            "kimbal\n",
            "younger\n",
            "sister\n",
            "tosca\n",
            "four\n",
            "paternal\n",
            "half\n",
            "sibling\n",
            "musk\n",
            "raised\n",
            "anglican\n",
            "church\n",
            "baptized\n",
            "musk\n",
            "family\n",
            "wealthy\n",
            "elon\n",
            "youth\n",
            "despite\n",
            "elon\n",
            "errol\n",
            "previously\n",
            "stating\n",
            "errol\n",
            "part\n",
            "owner\n",
            "zambian\n",
            "emerald\n",
            "mine\n",
            "errol\n",
            "recounted\n",
            "deal\n",
            "made\n",
            "receive\n",
            "portion\n",
            "emerald\n",
            "produced\n",
            "three\n",
            "small\n",
            "mine\n",
            "errol\n",
            "elected\n",
            "pretoria\n",
            "city\n",
            "council\n",
            "representative\n",
            "anti\n",
            "apartheid\n",
            "progressive\n",
            "party\n",
            "said\n",
            "child\n",
            "shared\n",
            "father\n",
            "dislike\n",
            "apartheid\n"
          ]
        }
      ]
    },
    {
      "cell_type": "code",
      "source": [
        "#BOG(Bag of words)\n",
        "from sklearn.feature_extraction.text import CountVectorizer\n",
        "cv=CountVectorizer()"
      ],
      "metadata": {
        "id": "hDr-9p_a4US1"
      },
      "execution_count": null,
      "outputs": []
    },
    {
      "cell_type": "code",
      "source": [
        "X=cv.fit_transform(corpus)"
      ],
      "metadata": {
        "id": "l8nd6Yp56gOH"
      },
      "execution_count": null,
      "outputs": []
    },
    {
      "cell_type": "code",
      "source": [
        "cv.vocabulary_"
      ],
      "metadata": {
        "colab": {
          "base_uri": "https://localhost:8080/"
        },
        "id": "H8L8vxs161k0",
        "outputId": "b850d5e2-60f0-485e-9397-6ebd6e678911"
      },
      "execution_count": null,
      "outputs": [
        {
          "output_type": "execute_result",
          "data": {
            "text/plain": [
              "{'elon': 54,\n",
              " 'reeve': 119,\n",
              " 'musk': 93,\n",
              " 'was': 150,\n",
              " 'born': 20,\n",
              " 'on': 97,\n",
              " 'june': 81,\n",
              " 'in': 76,\n",
              " 'pretoria': 109,\n",
              " 'south': 131,\n",
              " 'africa': 4,\n",
              " 'administrative': 2,\n",
              " 'capital': 27,\n",
              " 'he': 74,\n",
              " 'is': 79,\n",
              " 'of': 96,\n",
              " 'british': 22,\n",
              " 'and': 10,\n",
              " 'pennsylvania': 104,\n",
              " 'dutch': 51,\n",
              " 'ancestry': 9,\n",
              " 'his': 75,\n",
              " 'mother': 90,\n",
              " 'maye': 86,\n",
              " 'haldeman': 70,\n",
              " 'model': 89,\n",
              " 'dietitian': 47,\n",
              " 'saskatchewan': 126,\n",
              " 'canada': 25,\n",
              " 'raised': 116,\n",
              " 'father': 64,\n",
              " 'errol': 58,\n",
              " 'african': 5,\n",
              " 'electromechanical': 53,\n",
              " 'engineer': 57,\n",
              " 'pilot': 105,\n",
              " 'sailor': 125,\n",
              " 'consultant': 35,\n",
              " 'emerald': 55,\n",
              " 'dealer': 40,\n",
              " 'property': 115,\n",
              " 'developer': 45,\n",
              " 'who': 154,\n",
              " 'partly': 101,\n",
              " 'owned': 98,\n",
              " 'rental': 120,\n",
              " 'lodge': 83,\n",
              " 'at': 16,\n",
              " 'timbavati': 143,\n",
              " 'private': 111,\n",
              " 'nature': 94,\n",
              " 'reserve': 122,\n",
              " 'maternal': 85,\n",
              " 'grandfather': 68,\n",
              " 'joshua': 80,\n",
              " 'died': 46,\n",
              " 'plane': 106,\n",
              " 'crash': 37,\n",
              " 'when': 152,\n",
              " 'toddler': 145,\n",
              " 'an': 8,\n",
              " 'american': 7,\n",
              " 'canadian': 26,\n",
              " 'chiropractor': 30,\n",
              " 'aviator': 17,\n",
              " 'political': 107,\n",
              " 'activist': 1,\n",
              " 'the': 138,\n",
              " 'technocracy': 136,\n",
              " 'movement': 92,\n",
              " 'moved': 91,\n",
              " 'to': 144,\n",
              " 'anti': 12,\n",
              " 'government': 67,\n",
              " 'democratic': 41,\n",
              " 'conspiracist': 33,\n",
              " 'views': 149,\n",
              " 'which': 153,\n",
              " 'included': 77,\n",
              " 'promotion': 114,\n",
              " 'far': 63,\n",
              " 'right': 123,\n",
              " 'antisemitic': 13,\n",
              " 'conspiracy': 34,\n",
              " 'theories': 140,\n",
              " 'fanatical': 62,\n",
              " 'support': 135,\n",
              " 'apartheid': 14,\n",
              " 'according': 0,\n",
              " 'nazism': 95,\n",
              " 'have': 73,\n",
              " 'been': 19,\n",
              " 'suggested': 134,\n",
              " 'as': 15,\n",
              " 'influence': 78,\n",
              " 'during': 50,\n",
              " 'childhood': 28,\n",
              " 'told': 146,\n",
              " 'stories': 133,\n",
              " 'by': 24,\n",
              " 'grandmother': 69,\n",
              " 'travels': 148,\n",
              " 'exploits': 59,\n",
              " 'has': 72,\n",
              " 'that': 137,\n",
              " 'all': 6,\n",
              " 'descendants': 42,\n",
              " 'desire': 43,\n",
              " 'for': 65,\n",
              " 'adventure': 3,\n",
              " 'exploration': 60,\n",
              " 'doing': 49,\n",
              " 'crazy': 38,\n",
              " 'things': 141,\n",
              " 'younger': 155,\n",
              " 'brother': 23,\n",
              " 'kimbal': 82,\n",
              " 'sister': 129,\n",
              " 'tosca': 147,\n",
              " 'four': 66,\n",
              " 'paternal': 103,\n",
              " 'half': 71,\n",
              " 'siblings': 128,\n",
              " 'anglican': 11,\n",
              " 'church': 31,\n",
              " 'baptized': 18,\n",
              " 'family': 61,\n",
              " 'wealthy': 151,\n",
              " 'youth': 156,\n",
              " 'despite': 44,\n",
              " 'both': 21,\n",
              " 'previously': 110,\n",
              " 'stating': 132,\n",
              " 'part': 100,\n",
              " 'owner': 99,\n",
              " 'zambian': 157,\n",
              " 'mine': 87,\n",
              " 'recounted': 118,\n",
              " 'deal': 39,\n",
              " 'made': 84,\n",
              " 'receive': 117,\n",
              " 'portion': 108,\n",
              " 'emeralds': 56,\n",
              " 'produced': 112,\n",
              " 'three': 142,\n",
              " 'small': 130,\n",
              " 'mines': 88,\n",
              " 'elected': 52,\n",
              " 'city': 32,\n",
              " 'council': 36,\n",
              " 'representative': 121,\n",
              " 'progressive': 113,\n",
              " 'party': 102,\n",
              " 'said': 124,\n",
              " 'children': 29,\n",
              " 'shared': 127,\n",
              " 'their': 139,\n",
              " 'dislike': 48}"
            ]
          },
          "metadata": {},
          "execution_count": 31
        }
      ]
    },
    {
      "cell_type": "code",
      "source": [
        "corpus[0]"
      ],
      "metadata": {
        "colab": {
          "base_uri": "https://localhost:8080/",
          "height": 36
        },
        "id": "9k-mfn9F669Y",
        "outputId": "561c6607-ed9e-435a-e324-34e19e031e1d"
      },
      "execution_count": null,
      "outputs": [
        {
          "output_type": "execute_result",
          "data": {
            "text/plain": [
              "'elon reeve musk was born on june in pretoria south africa s administrative capital'"
            ],
            "application/vnd.google.colaboratory.intrinsic+json": {
              "type": "string"
            }
          },
          "metadata": {},
          "execution_count": 32
        }
      ]
    },
    {
      "cell_type": "code",
      "source": [
        "X[0].toarray()"
      ],
      "metadata": {
        "colab": {
          "base_uri": "https://localhost:8080/"
        },
        "id": "_2uvhlPO7FRj",
        "outputId": "74f9dbb2-98d0-4b21-d3ab-5eaa4abd3762"
      },
      "execution_count": null,
      "outputs": [
        {
          "output_type": "execute_result",
          "data": {
            "text/plain": [
              "array([[0, 0, 1, 0, 1, 0, 0, 0, 0, 0, 0, 0, 0, 0, 0, 0, 0, 0, 0, 0, 1, 0,\n",
              "        0, 0, 0, 0, 0, 1, 0, 0, 0, 0, 0, 0, 0, 0, 0, 0, 0, 0, 0, 0, 0, 0,\n",
              "        0, 0, 0, 0, 0, 0, 0, 0, 0, 0, 1, 0, 0, 0, 0, 0, 0, 0, 0, 0, 0, 0,\n",
              "        0, 0, 0, 0, 0, 0, 0, 0, 0, 0, 1, 0, 0, 0, 0, 1, 0, 0, 0, 0, 0, 0,\n",
              "        0, 0, 0, 0, 0, 1, 0, 0, 0, 1, 0, 0, 0, 0, 0, 0, 0, 0, 0, 0, 0, 1,\n",
              "        0, 0, 0, 0, 0, 0, 0, 0, 0, 1, 0, 0, 0, 0, 0, 0, 0, 0, 0, 0, 0, 1,\n",
              "        0, 0, 0, 0, 0, 0, 0, 0, 0, 0, 0, 0, 0, 0, 0, 0, 0, 0, 1, 0, 0, 0,\n",
              "        0, 0, 0, 0]])"
            ]
          },
          "metadata": {},
          "execution_count": 34
        }
      ]
    },
    {
      "cell_type": "markdown",
      "source": [
        "**TF IDF**"
      ],
      "metadata": {
        "id": "TvHYyUPkOA8x"
      }
    },
    {
      "cell_type": "code",
      "source": [
        "from sklearn.feature_extraction.text import TfidfVectorizer\n",
        "cv=TfidfVectorizer(ngram_range=(1,1))\n",
        "X=cv.fit_transform(corpus)"
      ],
      "metadata": {
        "id": "dRc44oT_7NmO"
      },
      "execution_count": null,
      "outputs": []
    },
    {
      "cell_type": "code",
      "source": [
        "corpus[0]"
      ],
      "metadata": {
        "colab": {
          "base_uri": "https://localhost:8080/",
          "height": 36
        },
        "id": "JQT9bV0KOU1R",
        "outputId": "0b8dc8bf-dd5c-4649-dca6-fa098629eb8c"
      },
      "execution_count": null,
      "outputs": [
        {
          "output_type": "execute_result",
          "data": {
            "text/plain": [
              "'elon reeve musk was born on june in pretoria south africa s administrative capital'"
            ],
            "application/vnd.google.colaboratory.intrinsic+json": {
              "type": "string"
            }
          },
          "metadata": {},
          "execution_count": 42
        }
      ]
    },
    {
      "cell_type": "code",
      "source": [
        "X[0].toarray()"
      ],
      "metadata": {
        "colab": {
          "base_uri": "https://localhost:8080/"
        },
        "id": "HcvqNbT9Omuh",
        "outputId": "67572489-bccb-4e16-cea7-47a4301f03b6"
      },
      "execution_count": null,
      "outputs": [
        {
          "output_type": "execute_result",
          "data": {
            "text/plain": [
              "array([[0.        , 0.        , 0.34529026, 0.        , 0.26194992,\n",
              "        0.        , 0.        , 0.        , 0.        , 0.        ,\n",
              "        0.        , 0.        , 0.        , 0.        , 0.        ,\n",
              "        0.        , 0.        , 0.        , 0.        , 0.        ,\n",
              "        0.26194992, 0.        , 0.        , 0.        , 0.        ,\n",
              "        0.        , 0.        , 0.34529026, 0.        , 0.        ,\n",
              "        0.        , 0.        , 0.        , 0.        , 0.        ,\n",
              "        0.        , 0.        , 0.        , 0.        , 0.        ,\n",
              "        0.        , 0.        , 0.        , 0.        , 0.        ,\n",
              "        0.        , 0.        , 0.        , 0.        , 0.        ,\n",
              "        0.        , 0.        , 0.        , 0.        , 0.17860958,\n",
              "        0.        , 0.        , 0.        , 0.        , 0.        ,\n",
              "        0.        , 0.        , 0.        , 0.        , 0.        ,\n",
              "        0.        , 0.        , 0.        , 0.        , 0.        ,\n",
              "        0.        , 0.        , 0.        , 0.        , 0.        ,\n",
              "        0.        , 0.21319895, 0.        , 0.        , 0.        ,\n",
              "        0.        , 0.34529026, 0.        , 0.        , 0.        ,\n",
              "        0.        , 0.        , 0.        , 0.        , 0.        ,\n",
              "        0.        , 0.        , 0.        , 0.21319895, 0.        ,\n",
              "        0.        , 0.        , 0.29653929, 0.        , 0.        ,\n",
              "        0.        , 0.        , 0.        , 0.        , 0.        ,\n",
              "        0.        , 0.        , 0.        , 0.        , 0.29653929,\n",
              "        0.        , 0.        , 0.        , 0.        , 0.        ,\n",
              "        0.        , 0.        , 0.        , 0.        , 0.34529026,\n",
              "        0.        , 0.        , 0.        , 0.        , 0.        ,\n",
              "        0.        , 0.        , 0.        , 0.        , 0.        ,\n",
              "        0.        , 0.23512032, 0.        , 0.        , 0.        ,\n",
              "        0.        , 0.        , 0.        , 0.        , 0.        ,\n",
              "        0.        , 0.        , 0.        , 0.        , 0.        ,\n",
              "        0.        , 0.        , 0.        , 0.        , 0.        ,\n",
              "        0.17860958, 0.        , 0.        , 0.        , 0.        ,\n",
              "        0.        , 0.        , 0.        ]])"
            ]
          },
          "metadata": {},
          "execution_count": 43
        }
      ]
    },
    {
      "cell_type": "markdown",
      "source": [
        "## Word2vec\n"
      ],
      "metadata": {
        "id": "IWDRY7qmGpAc"
      }
    },
    {
      "cell_type": "code",
      "source": [
        "!pip install gensim"
      ],
      "metadata": {
        "colab": {
          "base_uri": "https://localhost:8080/",
          "height": 643
        },
        "id": "rq-IT1PJOqLI",
        "outputId": "2914f9e8-62e9-48c9-e672-2bb3ff60f1b0"
      },
      "execution_count": null,
      "outputs": [
        {
          "output_type": "stream",
          "name": "stdout",
          "text": [
            "Collecting gensim\n",
            "  Downloading gensim-4.3.3-cp311-cp311-manylinux_2_17_x86_64.manylinux2014_x86_64.whl.metadata (8.1 kB)\n",
            "Collecting numpy<2.0,>=1.18.5 (from gensim)\n",
            "  Downloading numpy-1.26.4-cp311-cp311-manylinux_2_17_x86_64.manylinux2014_x86_64.whl.metadata (61 kB)\n",
            "\u001b[2K     \u001b[90m━━━━━━━━━━━━━━━━━━━━━━━━━━━━━━━━━━━━━━━━\u001b[0m \u001b[32m61.0/61.0 kB\u001b[0m \u001b[31m4.2 MB/s\u001b[0m eta \u001b[36m0:00:00\u001b[0m\n",
            "\u001b[?25hCollecting scipy<1.14.0,>=1.7.0 (from gensim)\n",
            "  Downloading scipy-1.13.1-cp311-cp311-manylinux_2_17_x86_64.manylinux2014_x86_64.whl.metadata (60 kB)\n",
            "\u001b[2K     \u001b[90m━━━━━━━━━━━━━━━━━━━━━━━━━━━━━━━━━━━━━━━━\u001b[0m \u001b[32m60.6/60.6 kB\u001b[0m \u001b[31m3.5 MB/s\u001b[0m eta \u001b[36m0:00:00\u001b[0m\n",
            "\u001b[?25hRequirement already satisfied: smart-open>=1.8.1 in /usr/local/lib/python3.11/dist-packages (from gensim) (7.1.0)\n",
            "Requirement already satisfied: wrapt in /usr/local/lib/python3.11/dist-packages (from smart-open>=1.8.1->gensim) (1.17.2)\n",
            "Downloading gensim-4.3.3-cp311-cp311-manylinux_2_17_x86_64.manylinux2014_x86_64.whl (26.7 MB)\n",
            "\u001b[2K   \u001b[90m━━━━━━━━━━━━━━━━━━━━━━━━━━━━━━━━━━━━━━━━\u001b[0m \u001b[32m26.7/26.7 MB\u001b[0m \u001b[31m70.9 MB/s\u001b[0m eta \u001b[36m0:00:00\u001b[0m\n",
            "\u001b[?25hDownloading numpy-1.26.4-cp311-cp311-manylinux_2_17_x86_64.manylinux2014_x86_64.whl (18.3 MB)\n",
            "\u001b[2K   \u001b[90m━━━━━━━━━━━━━━━━━━━━━━━━━━━━━━━━━━━━━━━━\u001b[0m \u001b[32m18.3/18.3 MB\u001b[0m \u001b[31m66.4 MB/s\u001b[0m eta \u001b[36m0:00:00\u001b[0m\n",
            "\u001b[?25hDownloading scipy-1.13.1-cp311-cp311-manylinux_2_17_x86_64.manylinux2014_x86_64.whl (38.6 MB)\n",
            "\u001b[2K   \u001b[90m━━━━━━━━━━━━━━━━━━━━━━━━━━━━━━━━━━━━━━━━\u001b[0m \u001b[32m38.6/38.6 MB\u001b[0m \u001b[31m14.7 MB/s\u001b[0m eta \u001b[36m0:00:00\u001b[0m\n",
            "\u001b[?25hInstalling collected packages: numpy, scipy, gensim\n",
            "  Attempting uninstall: numpy\n",
            "    Found existing installation: numpy 2.0.2\n",
            "    Uninstalling numpy-2.0.2:\n",
            "      Successfully uninstalled numpy-2.0.2\n",
            "  Attempting uninstall: scipy\n",
            "    Found existing installation: scipy 1.15.3\n",
            "    Uninstalling scipy-1.15.3:\n",
            "      Successfully uninstalled scipy-1.15.3\n",
            "\u001b[31mERROR: pip's dependency resolver does not currently take into account all the packages that are installed. This behaviour is the source of the following dependency conflicts.\n",
            "tsfresh 0.21.0 requires scipy>=1.14.0; python_version >= \"3.10\", but you have scipy 1.13.1 which is incompatible.\n",
            "thinc 8.3.6 requires numpy<3.0.0,>=2.0.0, but you have numpy 1.26.4 which is incompatible.\u001b[0m\u001b[31m\n",
            "\u001b[0mSuccessfully installed gensim-4.3.3 numpy-1.26.4 scipy-1.13.1\n"
          ]
        },
        {
          "output_type": "display_data",
          "data": {
            "application/vnd.colab-display-data+json": {
              "pip_warning": {
                "packages": [
                  "numpy"
                ]
              },
              "id": "2d949f0c4e04408b836adf98393093c7"
            }
          },
          "metadata": {}
        }
      ]
    },
    {
      "cell_type": "code",
      "source": [
        "import gensim"
      ],
      "metadata": {
        "id": "-PNAhP-kG1l1"
      },
      "execution_count": null,
      "outputs": []
    },
    {
      "cell_type": "code",
      "source": [
        "from gensim.models import Word2Vec,keyedvectors"
      ],
      "metadata": {
        "id": "eEHTQnc5HDbA"
      },
      "execution_count": null,
      "outputs": []
    },
    {
      "cell_type": "code",
      "source": [
        "import gensim.downloader as api\n",
        "\n",
        "wv=api.load(\"word2vec-google-news-300\")\n",
        "\n",
        "vec_king=wv[\"king\"]"
      ],
      "metadata": {
        "colab": {
          "base_uri": "https://localhost:8080/"
        },
        "id": "ssIvqNOVHUB4",
        "outputId": "890d0708-d91a-4854-fe9a-ffa1bcf3d4d7"
      },
      "execution_count": null,
      "outputs": [
        {
          "output_type": "stream",
          "name": "stdout",
          "text": [
            "[==================================================] 100.0% 1662.8/1662.8MB downloaded\n"
          ]
        }
      ]
    },
    {
      "cell_type": "code",
      "source": [
        "vec_king"
      ],
      "metadata": {
        "colab": {
          "base_uri": "https://localhost:8080/"
        },
        "id": "cjrApB_lIU1d",
        "outputId": "8257d78f-b18f-49af-dec2-25bd49db1a02"
      },
      "execution_count": null,
      "outputs": [
        {
          "data": {
            "text/plain": [
              "array([ 1.25976562e-01,  2.97851562e-02,  8.60595703e-03,  1.39648438e-01,\n",
              "       -2.56347656e-02, -3.61328125e-02,  1.11816406e-01, -1.98242188e-01,\n",
              "        5.12695312e-02,  3.63281250e-01, -2.42187500e-01, -3.02734375e-01,\n",
              "       -1.77734375e-01, -2.49023438e-02, -1.67968750e-01, -1.69921875e-01,\n",
              "        3.46679688e-02,  5.21850586e-03,  4.63867188e-02,  1.28906250e-01,\n",
              "        1.36718750e-01,  1.12792969e-01,  5.95703125e-02,  1.36718750e-01,\n",
              "        1.01074219e-01, -1.76757812e-01, -2.51953125e-01,  5.98144531e-02,\n",
              "        3.41796875e-01, -3.11279297e-02,  1.04492188e-01,  6.17675781e-02,\n",
              "        1.24511719e-01,  4.00390625e-01, -3.22265625e-01,  8.39843750e-02,\n",
              "        3.90625000e-02,  5.85937500e-03,  7.03125000e-02,  1.72851562e-01,\n",
              "        1.38671875e-01, -2.31445312e-01,  2.83203125e-01,  1.42578125e-01,\n",
              "        3.41796875e-01, -2.39257812e-02, -1.09863281e-01,  3.32031250e-02,\n",
              "       -5.46875000e-02,  1.53198242e-02, -1.62109375e-01,  1.58203125e-01,\n",
              "       -2.59765625e-01,  2.01416016e-02, -1.63085938e-01,  1.35803223e-03,\n",
              "       -1.44531250e-01, -5.68847656e-02,  4.29687500e-02, -2.46582031e-02,\n",
              "        1.85546875e-01,  4.47265625e-01,  9.58251953e-03,  1.31835938e-01,\n",
              "        9.86328125e-02, -1.85546875e-01, -1.00097656e-01, -1.33789062e-01,\n",
              "       -1.25000000e-01,  2.83203125e-01,  1.23046875e-01,  5.32226562e-02,\n",
              "       -1.77734375e-01,  8.59375000e-02, -2.18505859e-02,  2.05078125e-02,\n",
              "       -1.39648438e-01,  2.51464844e-02,  1.38671875e-01, -1.05468750e-01,\n",
              "        1.38671875e-01,  8.88671875e-02, -7.51953125e-02, -2.13623047e-02,\n",
              "        1.72851562e-01,  4.63867188e-02, -2.65625000e-01,  8.91113281e-03,\n",
              "        1.49414062e-01,  3.78417969e-02,  2.38281250e-01, -1.24511719e-01,\n",
              "       -2.17773438e-01, -1.81640625e-01,  2.97851562e-02,  5.71289062e-02,\n",
              "       -2.89306641e-02,  1.24511719e-02,  9.66796875e-02, -2.31445312e-01,\n",
              "        5.81054688e-02,  6.68945312e-02,  7.08007812e-02, -3.08593750e-01,\n",
              "       -2.14843750e-01,  1.45507812e-01, -4.27734375e-01, -9.39941406e-03,\n",
              "        1.54296875e-01, -7.66601562e-02,  2.89062500e-01,  2.77343750e-01,\n",
              "       -4.86373901e-04, -1.36718750e-01,  3.24218750e-01, -2.46093750e-01,\n",
              "       -3.03649902e-03, -2.11914062e-01,  1.25000000e-01,  2.69531250e-01,\n",
              "        2.04101562e-01,  8.25195312e-02, -2.01171875e-01, -1.60156250e-01,\n",
              "       -3.78417969e-02, -1.20117188e-01,  1.15234375e-01, -4.10156250e-02,\n",
              "       -3.95507812e-02, -8.98437500e-02,  6.34765625e-03,  2.03125000e-01,\n",
              "        1.86523438e-01,  2.73437500e-01,  6.29882812e-02,  1.41601562e-01,\n",
              "       -9.81445312e-02,  1.38671875e-01,  1.82617188e-01,  1.73828125e-01,\n",
              "        1.73828125e-01, -2.37304688e-01,  1.78710938e-01,  6.34765625e-02,\n",
              "        2.36328125e-01, -2.08984375e-01,  8.74023438e-02, -1.66015625e-01,\n",
              "       -7.91015625e-02,  2.43164062e-01, -8.88671875e-02,  1.26953125e-01,\n",
              "       -2.16796875e-01, -1.73828125e-01, -3.59375000e-01, -8.25195312e-02,\n",
              "       -6.49414062e-02,  5.07812500e-02,  1.35742188e-01, -7.47070312e-02,\n",
              "       -1.64062500e-01,  1.15356445e-02,  4.45312500e-01, -2.15820312e-01,\n",
              "       -1.11328125e-01, -1.92382812e-01,  1.70898438e-01, -1.25000000e-01,\n",
              "        2.65502930e-03,  1.92382812e-01, -1.74804688e-01,  1.39648438e-01,\n",
              "        2.92968750e-01,  1.13281250e-01,  5.95703125e-02, -6.39648438e-02,\n",
              "        9.96093750e-02, -2.72216797e-02,  1.96533203e-02,  4.27246094e-02,\n",
              "       -2.46093750e-01,  6.39648438e-02, -2.25585938e-01, -1.68945312e-01,\n",
              "        2.89916992e-03,  8.20312500e-02,  3.41796875e-01,  4.32128906e-02,\n",
              "        1.32812500e-01,  1.42578125e-01,  7.61718750e-02,  5.98144531e-02,\n",
              "       -1.19140625e-01,  2.74658203e-03, -6.29882812e-02, -2.72216797e-02,\n",
              "       -4.82177734e-03, -8.20312500e-02, -2.49023438e-02, -4.00390625e-01,\n",
              "       -1.06933594e-01,  4.24804688e-02,  7.76367188e-02, -1.16699219e-01,\n",
              "        7.37304688e-02, -9.22851562e-02,  1.07910156e-01,  1.58203125e-01,\n",
              "        4.24804688e-02,  1.26953125e-01,  3.61328125e-02,  2.67578125e-01,\n",
              "       -1.01074219e-01, -3.02734375e-01, -5.76171875e-02,  5.05371094e-02,\n",
              "        5.26428223e-04, -2.07031250e-01, -1.38671875e-01, -8.97216797e-03,\n",
              "       -2.78320312e-02, -1.41601562e-01,  2.07031250e-01, -1.58203125e-01,\n",
              "        1.27929688e-01,  1.49414062e-01, -2.24609375e-02, -8.44726562e-02,\n",
              "        1.22558594e-01,  2.15820312e-01, -2.13867188e-01, -3.12500000e-01,\n",
              "       -3.73046875e-01,  4.08935547e-03,  1.07421875e-01,  1.06933594e-01,\n",
              "        7.32421875e-02,  8.97216797e-03, -3.88183594e-02, -1.29882812e-01,\n",
              "        1.49414062e-01, -2.14843750e-01, -1.83868408e-03,  9.91210938e-02,\n",
              "        1.57226562e-01, -1.14257812e-01, -2.05078125e-01,  9.91210938e-02,\n",
              "        3.69140625e-01, -1.97265625e-01,  3.54003906e-02,  1.09375000e-01,\n",
              "        1.31835938e-01,  1.66992188e-01,  2.35351562e-01,  1.04980469e-01,\n",
              "       -4.96093750e-01, -1.64062500e-01, -1.56250000e-01, -5.22460938e-02,\n",
              "        1.03027344e-01,  2.43164062e-01, -1.88476562e-01,  5.07812500e-02,\n",
              "       -9.37500000e-02, -6.68945312e-02,  2.27050781e-02,  7.61718750e-02,\n",
              "        2.89062500e-01,  3.10546875e-01, -5.37109375e-02,  2.28515625e-01,\n",
              "        2.51464844e-02,  6.78710938e-02, -1.21093750e-01, -2.15820312e-01,\n",
              "       -2.73437500e-01, -3.07617188e-02, -3.37890625e-01,  1.53320312e-01,\n",
              "        2.33398438e-01, -2.08007812e-01,  3.73046875e-01,  8.20312500e-02,\n",
              "        2.51953125e-01, -7.61718750e-02, -4.66308594e-02, -2.23388672e-02,\n",
              "        2.99072266e-02, -5.93261719e-02, -4.66918945e-03, -2.44140625e-01,\n",
              "       -2.09960938e-01, -2.87109375e-01, -4.54101562e-02, -1.77734375e-01,\n",
              "       -2.79296875e-01, -8.59375000e-02,  9.13085938e-02,  2.51953125e-01],\n",
              "      dtype=float32)"
            ]
          },
          "execution_count": 4,
          "metadata": {},
          "output_type": "execute_result"
        }
      ]
    },
    {
      "cell_type": "code",
      "source": [
        "wv[\"man\"]"
      ],
      "metadata": {
        "colab": {
          "base_uri": "https://localhost:8080/"
        },
        "id": "7p8K68UW7Emt",
        "outputId": "8b7b90d4-5e78-49db-d7b8-3e56bc35b107"
      },
      "execution_count": null,
      "outputs": [
        {
          "output_type": "execute_result",
          "data": {
            "text/plain": [
              "array([ 0.32617188,  0.13085938,  0.03466797, -0.08300781,  0.08984375,\n",
              "       -0.04125977, -0.19824219,  0.00689697,  0.14355469,  0.0019455 ,\n",
              "        0.02880859, -0.25      , -0.08398438, -0.15136719, -0.10205078,\n",
              "        0.04077148, -0.09765625,  0.05932617,  0.02978516, -0.10058594,\n",
              "       -0.13085938,  0.001297  ,  0.02612305, -0.27148438,  0.06396484,\n",
              "       -0.19140625, -0.078125  ,  0.25976562,  0.375     , -0.04541016,\n",
              "        0.16210938,  0.13671875, -0.06396484, -0.02062988, -0.09667969,\n",
              "        0.25390625,  0.24804688, -0.12695312,  0.07177734,  0.3203125 ,\n",
              "        0.03149414, -0.03857422,  0.21191406, -0.00811768,  0.22265625,\n",
              "       -0.13476562, -0.07617188,  0.01049805, -0.05175781,  0.03808594,\n",
              "       -0.13378906,  0.125     ,  0.0559082 , -0.18261719,  0.08154297,\n",
              "       -0.08447266, -0.07763672, -0.04345703,  0.08105469, -0.01092529,\n",
              "        0.17480469,  0.30664062, -0.04321289, -0.01416016,  0.09082031,\n",
              "       -0.00927734, -0.03442383, -0.11523438,  0.12451172, -0.0246582 ,\n",
              "        0.08544922,  0.14355469, -0.27734375,  0.03662109, -0.11035156,\n",
              "        0.13085938, -0.01721191, -0.08056641, -0.00708008, -0.02954102,\n",
              "        0.30078125, -0.09033203,  0.03149414, -0.18652344, -0.11181641,\n",
              "        0.10253906, -0.25976562, -0.02209473,  0.16796875, -0.05322266,\n",
              "       -0.14550781, -0.01049805, -0.03039551, -0.03857422,  0.11523438,\n",
              "       -0.0062561 , -0.13964844,  0.08007812,  0.06103516, -0.15332031,\n",
              "       -0.11132812, -0.14160156,  0.19824219, -0.06933594,  0.29296875,\n",
              "       -0.16015625,  0.20898438,  0.00041771,  0.01831055, -0.20214844,\n",
              "        0.04760742,  0.05810547, -0.0123291 , -0.01989746, -0.00364685,\n",
              "       -0.0135498 , -0.08251953, -0.03149414,  0.00717163,  0.20117188,\n",
              "        0.08300781, -0.0480957 , -0.26367188, -0.09667969, -0.22558594,\n",
              "       -0.09667969,  0.06494141, -0.02502441,  0.08496094,  0.03198242,\n",
              "       -0.07568359, -0.25390625, -0.11669922, -0.01446533, -0.16015625,\n",
              "       -0.00701904, -0.05712891,  0.02807617, -0.09179688,  0.25195312,\n",
              "        0.24121094,  0.06640625,  0.12988281,  0.17089844, -0.13671875,\n",
              "        0.1875    , -0.10009766, -0.04199219, -0.12011719,  0.00524902,\n",
              "        0.15625   , -0.203125  , -0.07128906, -0.06103516,  0.01635742,\n",
              "        0.18261719,  0.03588867, -0.04248047,  0.16796875, -0.15039062,\n",
              "       -0.16992188,  0.01831055,  0.27734375, -0.01269531, -0.0390625 ,\n",
              "       -0.15429688,  0.18457031, -0.07910156,  0.09033203, -0.02709961,\n",
              "        0.08251953,  0.06738281, -0.16113281, -0.19628906, -0.15234375,\n",
              "       -0.04711914,  0.04760742,  0.05908203, -0.16894531, -0.14941406,\n",
              "        0.12988281,  0.04321289,  0.02624512, -0.1796875 , -0.19628906,\n",
              "        0.06445312,  0.08935547,  0.1640625 , -0.03808594, -0.09814453,\n",
              "       -0.01483154,  0.1875    ,  0.12792969,  0.22753906,  0.01818848,\n",
              "       -0.07958984, -0.11376953, -0.06933594, -0.15527344, -0.08105469,\n",
              "       -0.09277344, -0.11328125, -0.15136719, -0.08007812, -0.05126953,\n",
              "       -0.15332031,  0.11669922,  0.06835938,  0.0324707 , -0.33984375,\n",
              "       -0.08154297, -0.08349609,  0.04003906,  0.04907227, -0.24121094,\n",
              "       -0.13476562, -0.05932617,  0.12158203, -0.34179688,  0.16503906,\n",
              "        0.06176758, -0.18164062,  0.20117188, -0.07714844,  0.1640625 ,\n",
              "        0.00402832,  0.30273438, -0.10009766, -0.13671875, -0.05957031,\n",
              "        0.0625    , -0.21289062, -0.06542969,  0.1796875 , -0.07763672,\n",
              "       -0.01928711, -0.15039062, -0.00106049,  0.03417969,  0.03344727,\n",
              "        0.19335938,  0.01965332, -0.19921875, -0.10644531,  0.01525879,\n",
              "        0.00927734,  0.01416016, -0.02392578,  0.05883789,  0.02368164,\n",
              "        0.125     ,  0.04760742, -0.05566406,  0.11572266,  0.14746094,\n",
              "        0.1015625 , -0.07128906, -0.07714844, -0.12597656,  0.0291748 ,\n",
              "        0.09521484, -0.12402344, -0.109375  , -0.12890625,  0.16308594,\n",
              "        0.28320312, -0.03149414,  0.12304688, -0.23242188, -0.09375   ,\n",
              "       -0.12988281,  0.0135498 , -0.03881836, -0.08251953,  0.00897217,\n",
              "        0.16308594,  0.10546875, -0.13867188, -0.16503906, -0.03857422,\n",
              "        0.10839844, -0.10498047,  0.06396484,  0.38867188, -0.05981445,\n",
              "       -0.0612793 , -0.10449219, -0.16796875,  0.07177734,  0.13964844,\n",
              "        0.15527344, -0.03125   , -0.20214844, -0.12988281, -0.10058594,\n",
              "       -0.06396484, -0.08349609, -0.30273438, -0.08007812,  0.02099609],\n",
              "      dtype=float32)"
            ]
          },
          "metadata": {},
          "execution_count": 6
        }
      ]
    },
    {
      "cell_type": "code",
      "source": [
        "wv.most_similar(\"man\")"
      ],
      "metadata": {
        "colab": {
          "base_uri": "https://localhost:8080/"
        },
        "id": "puUXPHBg21RF",
        "outputId": "05612efd-20d7-4d0a-844b-d1b37d6b0b04"
      },
      "execution_count": null,
      "outputs": [
        {
          "output_type": "execute_result",
          "data": {
            "text/plain": [
              "[('woman', 0.7664012908935547),\n",
              " ('boy', 0.6824871301651001),\n",
              " ('teenager', 0.6586930155754089),\n",
              " ('teenage_girl', 0.6147903203964233),\n",
              " ('girl', 0.5921714305877686),\n",
              " ('suspected_purse_snatcher', 0.571636438369751),\n",
              " ('robber', 0.5585119128227234),\n",
              " ('Robbery_suspect', 0.5584409832954407),\n",
              " ('teen_ager', 0.5549196600914001),\n",
              " ('men', 0.5489763021469116)]"
            ]
          },
          "metadata": {},
          "execution_count": 7
        }
      ]
    },
    {
      "cell_type": "code",
      "source": [
        "wv.most_similar(\"king\")"
      ],
      "metadata": {
        "colab": {
          "base_uri": "https://localhost:8080/"
        },
        "id": "0uziTVvE2_yu",
        "outputId": "fba4b64d-9abb-4f79-91d7-ab601925f6bd"
      },
      "execution_count": null,
      "outputs": [
        {
          "output_type": "execute_result",
          "data": {
            "text/plain": [
              "[('kings', 0.7138045430183411),\n",
              " ('queen', 0.6510956883430481),\n",
              " ('monarch', 0.6413194537162781),\n",
              " ('crown_prince', 0.6204220056533813),\n",
              " ('prince', 0.6159993410110474),\n",
              " ('sultan', 0.5864824056625366),\n",
              " ('ruler', 0.5797567367553711),\n",
              " ('princes', 0.5646552443504333),\n",
              " ('Prince_Paras', 0.5432944297790527),\n",
              " ('throne', 0.5422105193138123)]"
            ]
          },
          "metadata": {},
          "execution_count": 8
        }
      ]
    },
    {
      "cell_type": "code",
      "source": [
        "wv.similarity(\"man\",\"king\")"
      ],
      "metadata": {
        "colab": {
          "base_uri": "https://localhost:8080/"
        },
        "id": "AZ2drw3X3--Z",
        "outputId": "45d1caf3-8c26-44b9-948a-ac3dc0f83bcb"
      },
      "execution_count": null,
      "outputs": [
        {
          "output_type": "execute_result",
          "data": {
            "text/plain": [
              "0.22942673"
            ]
          },
          "metadata": {},
          "execution_count": 9
        }
      ]
    },
    {
      "cell_type": "code",
      "source": [
        "wv.similarity(\"html\",\"boy\")"
      ],
      "metadata": {
        "colab": {
          "base_uri": "https://localhost:8080/"
        },
        "id": "wJFhLt3W4FF-",
        "outputId": "84e188e4-a5f5-45f0-93f2-08e22729b3f0"
      },
      "execution_count": null,
      "outputs": [
        {
          "output_type": "execute_result",
          "data": {
            "text/plain": [
              "-0.02857274"
            ]
          },
          "metadata": {},
          "execution_count": 11
        }
      ]
    },
    {
      "cell_type": "code",
      "source": [
        "wv.similarity(\"women\",\"Man\")"
      ],
      "metadata": {
        "colab": {
          "base_uri": "https://localhost:8080/"
        },
        "id": "XMrCytdm4OyG",
        "outputId": "a0f7c3a1-8d13-41c6-8ec8-96a2ea1f4744"
      },
      "execution_count": null,
      "outputs": [
        {
          "output_type": "execute_result",
          "data": {
            "text/plain": [
              "0.12635618"
            ]
          },
          "metadata": {},
          "execution_count": 12
        }
      ]
    },
    {
      "cell_type": "code",
      "source": [
        "wv.similarity(\"html\",\"Programmer\")"
      ],
      "metadata": {
        "colab": {
          "base_uri": "https://localhost:8080/"
        },
        "id": "MuAPHdHo4oVF",
        "outputId": "f284ca61-7dc5-456c-e9bf-abfb586eb639"
      },
      "execution_count": null,
      "outputs": [
        {
          "output_type": "execute_result",
          "data": {
            "text/plain": [
              "0.18460625"
            ]
          },
          "metadata": {},
          "execution_count": 13
        }
      ]
    },
    {
      "cell_type": "code",
      "source": [],
      "metadata": {
        "id": "EASwZMZ25SFs"
      },
      "execution_count": null,
      "outputs": []
    }
  ]
}